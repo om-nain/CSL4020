{
 "cells": [
  {
   "cell_type": "code",
   "execution_count": 18,
   "metadata": {},
   "outputs": [
    {
     "name": "stdout",
     "output_type": "stream",
     "text": [
      "Requirement already satisfied: scikit-learn in /venv/main/lib/python3.10/site-packages (1.6.1)\n",
      "Requirement already satisfied: joblib>=1.2.0 in /venv/main/lib/python3.10/site-packages (from scikit-learn) (1.4.2)\n",
      "Requirement already satisfied: threadpoolctl>=3.1.0 in /venv/main/lib/python3.10/site-packages (from scikit-learn) (3.5.0)\n",
      "Requirement already satisfied: numpy>=1.19.5 in /venv/main/lib/python3.10/site-packages (from scikit-learn) (2.1.2)\n",
      "Requirement already satisfied: scipy>=1.6.0 in /venv/main/lib/python3.10/site-packages (from scikit-learn) (1.15.1)\n",
      "Collecting matplotlib\n",
      "  Downloading matplotlib-3.10.0-cp310-cp310-manylinux_2_17_x86_64.manylinux2014_x86_64.whl (8.6 MB)\n",
      "\u001b[2K     \u001b[90m━━━━━━━━━━━━━━━━━━━━━━━━━━━━━━━━━━━━━━━━\u001b[0m \u001b[32m8.6/8.6 MB\u001b[0m \u001b[31m19.1 MB/s\u001b[0m eta \u001b[36m0:00:00\u001b[0m00:01\u001b[0m00:01\u001b[0m\n",
      "Collecting cycler>=0.10\n",
      "  Downloading cycler-0.12.1-py3-none-any.whl (8.3 kB)\n",
      "Requirement already satisfied: numpy>=1.23 in /venv/main/lib/python3.10/site-packages (from matplotlib) (2.1.2)\n",
      "Collecting kiwisolver>=1.3.1\n",
      "  Downloading kiwisolver-1.4.8-cp310-cp310-manylinux_2_12_x86_64.manylinux2010_x86_64.whl (1.6 MB)\n",
      "\u001b[2K     \u001b[90m━━━━━━━━━━━━━━━━━━━━━━━━━━━━━━━━━━━━━━━━\u001b[0m \u001b[32m1.6/1.6 MB\u001b[0m \u001b[31m37.0 MB/s\u001b[0m eta \u001b[36m0:00:00\u001b[0m00:01\u001b[0m\n",
      "Collecting pyparsing>=2.3.1\n",
      "  Downloading pyparsing-3.2.1-py3-none-any.whl (107 kB)\n",
      "\u001b[2K     \u001b[90m━━━━━━━━━━━━━━━━━━━━━━━━━━━━━━━━━━━━━━\u001b[0m \u001b[32m107.7/107.7 KB\u001b[0m \u001b[31m28.3 MB/s\u001b[0m eta \u001b[36m0:00:00\u001b[0m\n",
      "\u001b[?25hRequirement already satisfied: python-dateutil>=2.7 in /venv/main/lib/python3.10/site-packages (from matplotlib) (2.9.0.post0)\n",
      "Collecting fonttools>=4.22.0\n",
      "  Downloading fonttools-4.56.0-cp310-cp310-manylinux_2_17_x86_64.manylinux2014_x86_64.whl (4.6 MB)\n",
      "\u001b[2K     \u001b[90m━━━━━━━━━━━━━━━━━━━━━━━━━━━━━━━━━━━━━━━━\u001b[0m \u001b[32m4.6/4.6 MB\u001b[0m \u001b[31m49.3 MB/s\u001b[0m eta \u001b[36m0:00:00\u001b[0ma \u001b[36m0:00:01\u001b[0m\n",
      "\u001b[?25hRequirement already satisfied: packaging>=20.0 in /venv/main/lib/python3.10/site-packages (from matplotlib) (24.2)\n",
      "Requirement already satisfied: pillow>=8 in /venv/main/lib/python3.10/site-packages (from matplotlib) (11.0.0)\n",
      "Collecting contourpy>=1.0.1\n",
      "  Downloading contourpy-1.3.1-cp310-cp310-manylinux_2_17_x86_64.manylinux2014_x86_64.whl (324 kB)\n",
      "\u001b[2K     \u001b[90m━━━━━━━━━━━━━━━━━━━━━━━━━━━━━━━━━━━━━━\u001b[0m \u001b[32m325.0/325.0 KB\u001b[0m \u001b[31m63.2 MB/s\u001b[0m eta \u001b[36m0:00:00\u001b[0m\n",
      "Requirement already satisfied: six>=1.5 in /venv/main/lib/python3.10/site-packages (from python-dateutil>=2.7->matplotlib) (1.17.0)\n",
      "Installing collected packages: pyparsing, kiwisolver, fonttools, cycler, contourpy, matplotlib\n",
      "Successfully installed contourpy-1.3.1 cycler-0.12.1 fonttools-4.56.0 kiwisolver-1.4.8 matplotlib-3.10.0 pyparsing-3.2.1\n"
     ]
    }
   ],
   "source": [
    "!pip install scikit-learn\n",
    "!pip install matplotlib"
   ]
  },
  {
   "cell_type": "code",
   "execution_count": 11,
   "metadata": {
    "colab": {
     "base_uri": "https://localhost:8080/"
    },
    "id": "TUrjdTL_U0eo",
    "outputId": "61ae87c4-f83f-4cdf-bd65-a4f6c75ccaf4"
   },
   "outputs": [
    {
     "data": {
      "text/plain": [
       "<torch._C.Generator at 0x7f94b15d1050>"
      ]
     },
     "execution_count": 11,
     "metadata": {},
     "output_type": "execute_result"
    }
   ],
   "source": [
    "\n",
    "import torch\n",
    "import torch.nn as nn\n",
    "import torch.nn.functional as F\n",
    "import torch.optim as optim\n",
    "from torch.utils.data import DataLoader\n",
    "import torchvision\n",
    "import torchvision.transforms as transforms\n",
    "import time\n",
    "import numpy as np\n",
    "from sklearn.metrics import accuracy_score, precision_score, recall_score, f1_score, classification_report\n",
    "from tqdm import tqdm\n",
    "\n",
    "# For reproducibility\n",
    "torch.manual_seed(42)\n"
   ]
  },
  {
   "cell_type": "code",
   "execution_count": 12,
   "metadata": {
    "colab": {
     "base_uri": "https://localhost:8080/"
    },
    "id": "SKOMXc64SB2K",
    "outputId": "9403998a-dc5e-40da-8fca-20d2f4805712"
   },
   "outputs": [
    {
     "name": "stdout",
     "output_type": "stream",
     "text": [
      "Files already downloaded and verified\n",
      "Files already downloaded and verified\n"
     ]
    }
   ],
   "source": [
    "\n",
    "\n",
    "# Data augmentation and normalization for training\n",
    "transform_train = transforms.Compose([\n",
    "    transforms.RandomHorizontalFlip(),\n",
    "    transforms.RandomCrop(32, padding=4),\n",
    "    transforms.ToTensor(),\n",
    "    transforms.Normalize((0.4914, 0.4822, 0.4465), (0.247, 0.243, 0.261))\n",
    "])\n",
    "\n",
    "# Only normalization for testing\n",
    "transform_test = transforms.Compose([\n",
    "    transforms.ToTensor(),\n",
    "    transforms.Normalize((0.4914, 0.4822, 0.4465), (0.247, 0.243, 0.261))\n",
    "])\n",
    "\n",
    "batch_size = 128\n",
    "\n",
    "train_dataset = torchvision.datasets.CIFAR10(root='./data', train=True, download=True, transform=transform_train)\n",
    "test_dataset = torchvision.datasets.CIFAR10(root='./data', train=False, download=True, transform=transform_test)\n",
    "\n",
    "train_loader = DataLoader(train_dataset, batch_size=batch_size, shuffle=True, num_workers=2)\n",
    "test_loader = DataLoader(test_dataset, batch_size=batch_size, shuffle=False, num_workers=2)\n"
   ]
  },
  {
   "cell_type": "code",
   "execution_count": 13,
   "metadata": {
    "id": "6D97bRF3SEBA"
   },
   "outputs": [],
   "source": [
    "\n",
    "\n",
    "class DepthwiseSeparableConv(nn.Module):\n",
    "    \"\"\"\n",
    "    Implements a depth-wise separable convolution: depthwise conv followed by pointwise conv.\n",
    "    \"\"\"\n",
    "    def __init__(self, in_channels, out_channels, kernel_size=3, stride=1, padding=1):\n",
    "        super(DepthwiseSeparableConv, self).__init__()\n",
    "        self.depthwise = nn.Conv2d(in_channels, in_channels, kernel_size=kernel_size, \n",
    "                                   stride=stride, padding=padding, groups=in_channels, bias=False)\n",
    "        self.pointwise = nn.Conv2d(in_channels, out_channels, kernel_size=1, bias=False)\n",
    "        \n",
    "    def forward(self, x):\n",
    "        x = self.depthwise(x)\n",
    "        x = self.pointwise(x)\n",
    "        return x\n",
    "\n",
    "class DenseLayer(nn.Module):\n",
    "    \"\"\"\n",
    "    A single layer within a dense block.\n",
    "    If use_depthwise is True, uses a depth-wise separable conv; otherwise, a traditional conv.\n",
    "    \"\"\"\n",
    "    def __init__(self, in_channels, growth_rate, use_depthwise=True, drop_rate=0.0):\n",
    "        super(DenseLayer, self).__init__()\n",
    "        self.bn = nn.BatchNorm2d(in_channels)\n",
    "        self.relu = nn.ReLU(inplace=True)\n",
    "        self.use_depthwise = use_depthwise\n",
    "        if self.use_depthwise:\n",
    "            self.conv = DepthwiseSeparableConv(in_channels, growth_rate, kernel_size=3, stride=1, padding=1)\n",
    "        else:\n",
    "            self.conv = nn.Conv2d(in_channels, growth_rate, kernel_size=3, stride=1, padding=1, bias=False)\n",
    "        self.drop_rate = drop_rate\n",
    "\n",
    "    def forward(self, x):\n",
    "        out = self.conv(self.relu(self.bn(x)))\n",
    "        if self.drop_rate > 0:\n",
    "            out = F.dropout(out, p=self.drop_rate, training=self.training)\n",
    "        return out\n",
    "\n",
    "class DenseBlock(nn.Module):\n",
    "    \"\"\"\n",
    "    A dense block where each layer receives as input all previous layers’ outputs.\n",
    "    \"\"\"\n",
    "    def __init__(self, num_layers, in_channels, growth_rate, use_depthwise=True, drop_rate=0.0):\n",
    "        super(DenseBlock, self).__init__()\n",
    "        self.layers = nn.ModuleList()\n",
    "        for i in range(num_layers):\n",
    "            layer = DenseLayer(in_channels + i * growth_rate, growth_rate, use_depthwise, drop_rate)\n",
    "            self.layers.append(layer)\n",
    "\n",
    "    def forward(self, x):\n",
    "        features = [x]\n",
    "        for layer in self.layers:\n",
    "            new_feature = layer(torch.cat(features, 1))\n",
    "            features.append(new_feature)\n",
    "        return torch.cat(features, 1)\n",
    "\n",
    "class Transition(nn.Module):\n",
    "    \"\"\"\n",
    "    Transition layer used to down-sample the feature maps between dense blocks.\n",
    "    \"\"\"\n",
    "    def __init__(self, in_channels, out_channels, use_depthwise=True):\n",
    "        super(Transition, self).__init__()\n",
    "        self.bn = nn.BatchNorm2d(in_channels)\n",
    "        self.relu = nn.ReLU(inplace=True)\n",
    "        # 1x1 convolution (pointwise)\n",
    "        self.conv = nn.Conv2d(in_channels, out_channels, kernel_size=1, bias=False)\n",
    "        self.pool = nn.AvgPool2d(kernel_size=2, stride=2)\n",
    "\n",
    "    def forward(self, x):\n",
    "        x = self.conv(self.relu(self.bn(x)))\n",
    "        x = self.pool(x)\n",
    "        return x\n",
    "\n",
    "class DenseNetDS(nn.Module):\n",
    "    \"\"\"\n",
    "    DenseNet-inspired CNN with 4 dense blocks.\n",
    "    \n",
    "    Parameters:\n",
    "      - growth_rate: number of channels to add per DenseLayer.\n",
    "      - num_init_features: number of channels in the initial convolution.\n",
    "      - block_layers: list with the number of DenseLayers in each block.\n",
    "      - num_classes: number of output classes (10 for CIFAR-10).\n",
    "      - use_depthwise: if True, uses depth-wise separable convolutions.\n",
    "      - drop_rate: dropout rate.\n",
    "    \"\"\"\n",
    "    def __init__(self, growth_rate=12, num_init_features=32, block_layers=[4, 4, 4, 4],\n",
    "                 num_classes=10, use_depthwise=True, drop_rate=0.0):\n",
    "        super(DenseNetDS, self).__init__()\n",
    "        self.use_depthwise = use_depthwise\n",
    "        # Initial convolution layer\n",
    "        if self.use_depthwise:\n",
    "            self.conv0 = DepthwiseSeparableConv(3, num_init_features, kernel_size=3, stride=1, padding=1)\n",
    "        else:\n",
    "            self.conv0 = nn.Conv2d(3, num_init_features, kernel_size=3, stride=1, padding=1, bias=False)\n",
    "        \n",
    "        num_features = num_init_features\n",
    "        self.blocks = nn.ModuleList()\n",
    "        self.transitions = nn.ModuleList()\n",
    "\n",
    "        # Build dense blocks with transitions between them (except after the last block)\n",
    "        for i, num_layers in enumerate(block_layers):\n",
    "            block = DenseBlock(num_layers, num_features, growth_rate, use_depthwise, drop_rate)\n",
    "            self.blocks.append(block)\n",
    "            num_features = num_features + num_layers * growth_rate\n",
    "            if i != len(block_layers) - 1:\n",
    "                trans = Transition(num_features, num_features // 2, use_depthwise)\n",
    "                self.transitions.append(trans)\n",
    "                num_features = num_features // 2\n",
    "\n",
    "        # Final batch norm, global pooling, and fully connected layer\n",
    "        self.bn_final = nn.BatchNorm2d(num_features)\n",
    "        self.relu_final = nn.ReLU(inplace=True)\n",
    "        self.avgpool = nn.AdaptiveAvgPool2d((1, 1))\n",
    "        self.fc = nn.Linear(num_features, num_classes)\n",
    "\n",
    "    def forward(self, x):\n",
    "        x = self.conv0(x)\n",
    "        for i, block in enumerate(self.blocks):\n",
    "            x = block(x)\n",
    "            if i < len(self.transitions):\n",
    "                x = self.transitions[i](x)\n",
    "        x = self.relu_final(self.bn_final(x))\n",
    "        x = self.avgpool(x)\n",
    "        x = torch.flatten(x, 1)\n",
    "        x = self.fc(x)\n",
    "        return x\n",
    "\n",
    "def count_parameters(model):\n",
    "    return sum(p.numel() for p in model.parameters() if p.requires_grad)\n"
   ]
  },
  {
   "cell_type": "code",
   "execution_count": 14,
   "metadata": {
    "id": "wguRiK6TSGbU"
   },
   "outputs": [],
   "source": [
    "\n",
    "\n",
    "def train_one_epoch(model, device, train_loader, optimizer, criterion, epoch):\n",
    "    model.train()\n",
    "    running_loss = 0.0\n",
    "    correct = 0\n",
    "    total = 0\n",
    "    loop = tqdm(train_loader, desc=f\"Epoch [{epoch}]\")\n",
    "    for inputs, targets in loop:\n",
    "        inputs, targets = inputs.to(device), targets.to(device)\n",
    "        optimizer.zero_grad()\n",
    "        outputs = model(inputs)\n",
    "        loss = criterion(outputs, targets)\n",
    "        loss.backward()\n",
    "        optimizer.step()\n",
    "\n",
    "        running_loss += loss.item() * inputs.size(0)\n",
    "        _, predicted = outputs.max(1)\n",
    "        total += targets.size(0)\n",
    "        correct += predicted.eq(targets).sum().item()\n",
    "        loop.set_postfix(loss=loss.item(), acc=100.*correct/total)\n",
    "    \n",
    "    epoch_loss = running_loss / total\n",
    "    epoch_acc = 100. * correct / total\n",
    "    return epoch_loss, epoch_acc\n",
    "\n",
    "def evaluate_model(model, device, test_loader, criterion):\n",
    "    model.eval()\n",
    "    running_loss = 0.0\n",
    "    correct = 0\n",
    "    total = 0\n",
    "    all_targets = []\n",
    "    all_preds = []\n",
    "    with torch.no_grad():\n",
    "        for inputs, targets in test_loader:\n",
    "            inputs, targets = inputs.to(device), targets.to(device)\n",
    "            outputs = model(inputs)\n",
    "            loss = criterion(outputs, targets)\n",
    "            running_loss += loss.item() * inputs.size(0)\n",
    "            _, predicted = outputs.max(1)\n",
    "            total += targets.size(0)\n",
    "            correct += predicted.eq(targets).sum().item()\n",
    "            all_targets.extend(targets.cpu().numpy())\n",
    "            all_preds.extend(predicted.cpu().numpy())\n",
    "    avg_loss = running_loss / total\n",
    "    acc = 100. * correct / total\n",
    "    return avg_loss, acc, all_targets, all_preds\n",
    "\n",
    "def compute_metrics(targets, preds):\n",
    "    accuracy = accuracy_score(targets, preds)\n",
    "    precision = precision_score(targets, preds, average='macro', zero_division=0)\n",
    "    recall = recall_score(targets, preds, average='macro', zero_division=0)\n",
    "    f1 = f1_score(targets, preds, average='macro', zero_division=0)\n",
    "    report = classification_report(targets, preds, digits=4, zero_division=0)\n",
    "    return accuracy, precision, recall, f1, report\n",
    "\n",
    "def train_and_evaluate(model, device, train_loader, test_loader, criterion, optimizer, num_epochs, model_name=\"Model\"):\n",
    "    train_losses = []\n",
    "    train_accuracies = []\n",
    "    test_losses = []\n",
    "    test_accuracies = []\n",
    "    best_test_acc = 0.0\n",
    "    best_metrics = None\n",
    "    print(f\"\\nTraining {model_name} ...\")\n",
    "    for epoch in range(1, num_epochs + 1):\n",
    "        train_loss, train_acc = train_one_epoch(model, device, train_loader, optimizer, criterion, epoch)\n",
    "        test_loss, test_acc, targets, preds = evaluate_model(model, device, test_loader, criterion)\n",
    "        train_losses.append(train_loss)\n",
    "        train_accuracies.append(train_acc)\n",
    "        test_losses.append(test_loss)\n",
    "        test_accuracies.append(test_acc)\n",
    "        print(f\"{model_name} - Epoch {epoch}: Train Loss = {train_loss:.4f}, Train Acc = {train_acc:.2f}%, \"\n",
    "              f\"Test Loss = {test_loss:.4f}, Test Acc = {test_acc:.2f}%\")\n",
    "        if test_acc > best_test_acc:\n",
    "            best_test_acc = test_acc\n",
    "            best_metrics = (test_loss, test_acc, targets, preds)\n",
    "    return train_losses, train_accuracies, test_losses, test_accuracies, best_metrics\n"
   ]
  },
  {
   "cell_type": "code",
   "execution_count": 15,
   "metadata": {
    "colab": {
     "base_uri": "https://localhost:8080/"
    },
    "id": "LFvo6qi1SJmV",
    "outputId": "e4b16ca1-5db1-4706-c856-ac0bffab1f6b"
   },
   "outputs": [
    {
     "name": "stdout",
     "output_type": "stream",
     "text": [
      "Using device: cuda\n",
      "\n",
      "Depth-wise Separable Convolution Model:\n",
      "Number of trainable parameters: 34613\n",
      "\n",
      "Training Depth-wise Model ...\n"
     ]
    },
    {
     "name": "stderr",
     "output_type": "stream",
     "text": [
      "Epoch [1]: 100%|██████████| 391/391 [00:08<00:00, 44.13it/s, acc=40.8, loss=1.14]\n"
     ]
    },
    {
     "name": "stdout",
     "output_type": "stream",
     "text": [
      "Depth-wise Model - Epoch 1: Train Loss = 1.6049, Train Acc = 40.78%, Test Loss = 1.2711, Test Acc = 53.06%\n"
     ]
    },
    {
     "name": "stderr",
     "output_type": "stream",
     "text": [
      "Epoch [2]: 100%|██████████| 391/391 [00:09<00:00, 43.18it/s, acc=58.1, loss=0.976]\n"
     ]
    },
    {
     "name": "stdout",
     "output_type": "stream",
     "text": [
      "Depth-wise Model - Epoch 2: Train Loss = 1.1627, Train Acc = 58.11%, Test Loss = 1.0443, Test Acc = 62.92%\n"
     ]
    },
    {
     "name": "stderr",
     "output_type": "stream",
     "text": [
      "Epoch [3]: 100%|██████████| 391/391 [00:09<00:00, 42.63it/s, acc=64.1, loss=1.11] \n"
     ]
    },
    {
     "name": "stdout",
     "output_type": "stream",
     "text": [
      "Depth-wise Model - Epoch 3: Train Loss = 0.9978, Train Acc = 64.07%, Test Loss = 0.9624, Test Acc = 66.04%\n"
     ]
    },
    {
     "name": "stderr",
     "output_type": "stream",
     "text": [
      "Epoch [4]: 100%|██████████| 391/391 [00:09<00:00, 41.78it/s, acc=67.6, loss=0.947]\n"
     ]
    },
    {
     "name": "stdout",
     "output_type": "stream",
     "text": [
      "Depth-wise Model - Epoch 4: Train Loss = 0.9033, Train Acc = 67.60%, Test Loss = 0.9168, Test Acc = 67.79%\n"
     ]
    },
    {
     "name": "stderr",
     "output_type": "stream",
     "text": [
      "Epoch [5]: 100%|██████████| 391/391 [00:08<00:00, 43.61it/s, acc=70.6, loss=0.98] \n"
     ]
    },
    {
     "name": "stdout",
     "output_type": "stream",
     "text": [
      "Depth-wise Model - Epoch 5: Train Loss = 0.8235, Train Acc = 70.62%, Test Loss = 0.8082, Test Acc = 71.57%\n"
     ]
    },
    {
     "name": "stderr",
     "output_type": "stream",
     "text": [
      "Epoch [6]: 100%|██████████| 391/391 [00:08<00:00, 43.79it/s, acc=73, loss=0.798]  \n"
     ]
    },
    {
     "name": "stdout",
     "output_type": "stream",
     "text": [
      "Depth-wise Model - Epoch 6: Train Loss = 0.7656, Train Acc = 73.01%, Test Loss = 0.8037, Test Acc = 72.33%\n"
     ]
    },
    {
     "name": "stderr",
     "output_type": "stream",
     "text": [
      "Epoch [7]: 100%|██████████| 391/391 [00:08<00:00, 43.93it/s, acc=74.7, loss=0.718]\n"
     ]
    },
    {
     "name": "stdout",
     "output_type": "stream",
     "text": [
      "Depth-wise Model - Epoch 7: Train Loss = 0.7196, Train Acc = 74.67%, Test Loss = 0.7485, Test Acc = 73.84%\n"
     ]
    },
    {
     "name": "stderr",
     "output_type": "stream",
     "text": [
      "Epoch [8]: 100%|██████████| 391/391 [00:09<00:00, 42.71it/s, acc=76, loss=0.517]  \n"
     ]
    },
    {
     "name": "stdout",
     "output_type": "stream",
     "text": [
      "Depth-wise Model - Epoch 8: Train Loss = 0.6807, Train Acc = 75.98%, Test Loss = 0.7143, Test Acc = 75.54%\n"
     ]
    },
    {
     "name": "stderr",
     "output_type": "stream",
     "text": [
      "Epoch [9]: 100%|██████████| 391/391 [00:09<00:00, 42.31it/s, acc=77.2, loss=0.765]\n"
     ]
    },
    {
     "name": "stdout",
     "output_type": "stream",
     "text": [
      "Depth-wise Model - Epoch 9: Train Loss = 0.6518, Train Acc = 77.25%, Test Loss = 0.6879, Test Acc = 76.26%\n"
     ]
    },
    {
     "name": "stderr",
     "output_type": "stream",
     "text": [
      "Epoch [10]: 100%|██████████| 391/391 [00:09<00:00, 43.23it/s, acc=78, loss=0.802]  \n"
     ]
    },
    {
     "name": "stdout",
     "output_type": "stream",
     "text": [
      "Depth-wise Model - Epoch 10: Train Loss = 0.6260, Train Acc = 78.01%, Test Loss = 0.6628, Test Acc = 77.01%\n"
     ]
    },
    {
     "name": "stderr",
     "output_type": "stream",
     "text": [
      "Epoch [11]: 100%|██████████| 391/391 [00:09<00:00, 42.12it/s, acc=78.9, loss=0.669]\n"
     ]
    },
    {
     "name": "stdout",
     "output_type": "stream",
     "text": [
      "Depth-wise Model - Epoch 11: Train Loss = 0.6033, Train Acc = 78.93%, Test Loss = 0.6262, Test Acc = 78.56%\n"
     ]
    },
    {
     "name": "stderr",
     "output_type": "stream",
     "text": [
      "Epoch [12]: 100%|██████████| 391/391 [00:08<00:00, 44.50it/s, acc=79.5, loss=0.667]\n"
     ]
    },
    {
     "name": "stdout",
     "output_type": "stream",
     "text": [
      "Depth-wise Model - Epoch 12: Train Loss = 0.5887, Train Acc = 79.45%, Test Loss = 0.6545, Test Acc = 77.69%\n"
     ]
    },
    {
     "name": "stderr",
     "output_type": "stream",
     "text": [
      "Epoch [13]: 100%|██████████| 391/391 [00:09<00:00, 41.13it/s, acc=79.9, loss=0.572]\n"
     ]
    },
    {
     "name": "stdout",
     "output_type": "stream",
     "text": [
      "Depth-wise Model - Epoch 13: Train Loss = 0.5758, Train Acc = 79.88%, Test Loss = 0.6449, Test Acc = 78.45%\n"
     ]
    },
    {
     "name": "stderr",
     "output_type": "stream",
     "text": [
      "Epoch [14]: 100%|██████████| 391/391 [00:09<00:00, 43.07it/s, acc=80.5, loss=0.527]\n"
     ]
    },
    {
     "name": "stdout",
     "output_type": "stream",
     "text": [
      "Depth-wise Model - Epoch 14: Train Loss = 0.5567, Train Acc = 80.54%, Test Loss = 0.6375, Test Acc = 78.24%\n"
     ]
    },
    {
     "name": "stderr",
     "output_type": "stream",
     "text": [
      "Epoch [15]: 100%|██████████| 391/391 [00:09<00:00, 39.73it/s, acc=80.9, loss=0.498]\n"
     ]
    },
    {
     "name": "stdout",
     "output_type": "stream",
     "text": [
      "Depth-wise Model - Epoch 15: Train Loss = 0.5511, Train Acc = 80.90%, Test Loss = 0.5897, Test Acc = 79.82%\n"
     ]
    },
    {
     "name": "stderr",
     "output_type": "stream",
     "text": [
      "Epoch [16]: 100%|██████████| 391/391 [00:09<00:00, 39.46it/s, acc=81.3, loss=0.323]\n"
     ]
    },
    {
     "name": "stdout",
     "output_type": "stream",
     "text": [
      "Depth-wise Model - Epoch 16: Train Loss = 0.5350, Train Acc = 81.34%, Test Loss = 0.5708, Test Acc = 80.74%\n"
     ]
    },
    {
     "name": "stderr",
     "output_type": "stream",
     "text": [
      "Epoch [17]: 100%|██████████| 391/391 [00:09<00:00, 40.85it/s, acc=81.9, loss=0.56] \n"
     ]
    },
    {
     "name": "stdout",
     "output_type": "stream",
     "text": [
      "Depth-wise Model - Epoch 17: Train Loss = 0.5214, Train Acc = 81.88%, Test Loss = 0.5807, Test Acc = 80.33%\n"
     ]
    },
    {
     "name": "stderr",
     "output_type": "stream",
     "text": [
      "Epoch [18]: 100%|██████████| 391/391 [00:08<00:00, 44.20it/s, acc=82.2, loss=0.471]\n"
     ]
    },
    {
     "name": "stdout",
     "output_type": "stream",
     "text": [
      "Depth-wise Model - Epoch 18: Train Loss = 0.5128, Train Acc = 82.23%, Test Loss = 0.5714, Test Acc = 80.59%\n"
     ]
    },
    {
     "name": "stderr",
     "output_type": "stream",
     "text": [
      "Epoch [19]: 100%|██████████| 391/391 [00:09<00:00, 42.49it/s, acc=82.3, loss=0.5]  \n"
     ]
    },
    {
     "name": "stdout",
     "output_type": "stream",
     "text": [
      "Depth-wise Model - Epoch 19: Train Loss = 0.5054, Train Acc = 82.33%, Test Loss = 0.5793, Test Acc = 80.35%\n"
     ]
    },
    {
     "name": "stderr",
     "output_type": "stream",
     "text": [
      "Epoch [20]: 100%|██████████| 391/391 [00:08<00:00, 45.80it/s, acc=82.7, loss=0.589]\n"
     ]
    },
    {
     "name": "stdout",
     "output_type": "stream",
     "text": [
      "Depth-wise Model - Epoch 20: Train Loss = 0.4967, Train Acc = 82.70%, Test Loss = 0.5534, Test Acc = 80.78%\n"
     ]
    },
    {
     "name": "stderr",
     "output_type": "stream",
     "text": [
      "Epoch [21]: 100%|██████████| 391/391 [00:08<00:00, 43.51it/s, acc=82.8, loss=0.616]\n"
     ]
    },
    {
     "name": "stdout",
     "output_type": "stream",
     "text": [
      "Depth-wise Model - Epoch 21: Train Loss = 0.4925, Train Acc = 82.78%, Test Loss = 0.5672, Test Acc = 80.61%\n"
     ]
    },
    {
     "name": "stderr",
     "output_type": "stream",
     "text": [
      "Epoch [22]: 100%|██████████| 391/391 [00:09<00:00, 42.37it/s, acc=83.1, loss=0.425]\n"
     ]
    },
    {
     "name": "stdout",
     "output_type": "stream",
     "text": [
      "Depth-wise Model - Epoch 22: Train Loss = 0.4824, Train Acc = 83.13%, Test Loss = 0.5515, Test Acc = 81.17%\n"
     ]
    },
    {
     "name": "stderr",
     "output_type": "stream",
     "text": [
      "Epoch [23]: 100%|██████████| 391/391 [00:08<00:00, 44.45it/s, acc=83.4, loss=0.431]\n"
     ]
    },
    {
     "name": "stdout",
     "output_type": "stream",
     "text": [
      "Depth-wise Model - Epoch 23: Train Loss = 0.4764, Train Acc = 83.35%, Test Loss = 0.5651, Test Acc = 81.01%\n"
     ]
    },
    {
     "name": "stderr",
     "output_type": "stream",
     "text": [
      "Epoch [24]: 100%|██████████| 391/391 [00:08<00:00, 44.03it/s, acc=83.5, loss=0.474]\n"
     ]
    },
    {
     "name": "stdout",
     "output_type": "stream",
     "text": [
      "Depth-wise Model - Epoch 24: Train Loss = 0.4727, Train Acc = 83.50%, Test Loss = 0.5739, Test Acc = 80.22%\n"
     ]
    },
    {
     "name": "stderr",
     "output_type": "stream",
     "text": [
      "Epoch [25]: 100%|██████████| 391/391 [00:09<00:00, 41.72it/s, acc=84, loss=0.396]  \n"
     ]
    },
    {
     "name": "stdout",
     "output_type": "stream",
     "text": [
      "Depth-wise Model - Epoch 25: Train Loss = 0.4609, Train Acc = 83.98%, Test Loss = 0.5275, Test Acc = 81.95%\n"
     ]
    },
    {
     "name": "stderr",
     "output_type": "stream",
     "text": [
      "Epoch [26]: 100%|██████████| 391/391 [00:09<00:00, 43.38it/s, acc=84.2, loss=0.461]\n"
     ]
    },
    {
     "name": "stdout",
     "output_type": "stream",
     "text": [
      "Depth-wise Model - Epoch 26: Train Loss = 0.4532, Train Acc = 84.19%, Test Loss = 0.5339, Test Acc = 81.42%\n"
     ]
    },
    {
     "name": "stderr",
     "output_type": "stream",
     "text": [
      "Epoch [27]: 100%|██████████| 391/391 [00:09<00:00, 42.52it/s, acc=84.2, loss=0.41] \n"
     ]
    },
    {
     "name": "stdout",
     "output_type": "stream",
     "text": [
      "Depth-wise Model - Epoch 27: Train Loss = 0.4547, Train Acc = 84.18%, Test Loss = 0.5289, Test Acc = 82.09%\n"
     ]
    },
    {
     "name": "stderr",
     "output_type": "stream",
     "text": [
      "Epoch [28]: 100%|██████████| 391/391 [00:09<00:00, 41.28it/s, acc=84.4, loss=0.41] \n"
     ]
    },
    {
     "name": "stdout",
     "output_type": "stream",
     "text": [
      "Depth-wise Model - Epoch 28: Train Loss = 0.4459, Train Acc = 84.35%, Test Loss = 0.5198, Test Acc = 82.51%\n"
     ]
    },
    {
     "name": "stderr",
     "output_type": "stream",
     "text": [
      "Epoch [29]: 100%|██████████| 391/391 [00:08<00:00, 43.60it/s, acc=84.5, loss=0.487]\n"
     ]
    },
    {
     "name": "stdout",
     "output_type": "stream",
     "text": [
      "Depth-wise Model - Epoch 29: Train Loss = 0.4402, Train Acc = 84.54%, Test Loss = 0.5456, Test Acc = 82.02%\n"
     ]
    },
    {
     "name": "stderr",
     "output_type": "stream",
     "text": [
      "Epoch [30]: 100%|██████████| 391/391 [00:09<00:00, 43.33it/s, acc=84.5, loss=0.653]\n"
     ]
    },
    {
     "name": "stdout",
     "output_type": "stream",
     "text": [
      "Depth-wise Model - Epoch 30: Train Loss = 0.4382, Train Acc = 84.53%, Test Loss = 0.5228, Test Acc = 82.30%\n"
     ]
    },
    {
     "name": "stderr",
     "output_type": "stream",
     "text": [
      "Epoch [31]: 100%|██████████| 391/391 [00:09<00:00, 42.20it/s, acc=84.7, loss=0.62] \n"
     ]
    },
    {
     "name": "stdout",
     "output_type": "stream",
     "text": [
      "Depth-wise Model - Epoch 31: Train Loss = 0.4348, Train Acc = 84.72%, Test Loss = 0.4905, Test Acc = 83.34%\n"
     ]
    },
    {
     "name": "stderr",
     "output_type": "stream",
     "text": [
      "Epoch [32]: 100%|██████████| 391/391 [00:09<00:00, 42.36it/s, acc=85.1, loss=0.356]\n"
     ]
    },
    {
     "name": "stdout",
     "output_type": "stream",
     "text": [
      "Depth-wise Model - Epoch 32: Train Loss = 0.4265, Train Acc = 85.14%, Test Loss = 0.4958, Test Acc = 83.30%\n"
     ]
    },
    {
     "name": "stderr",
     "output_type": "stream",
     "text": [
      "Epoch [33]: 100%|██████████| 391/391 [00:08<00:00, 46.12it/s, acc=85.2, loss=0.591]\n"
     ]
    },
    {
     "name": "stdout",
     "output_type": "stream",
     "text": [
      "Depth-wise Model - Epoch 33: Train Loss = 0.4255, Train Acc = 85.21%, Test Loss = 0.5152, Test Acc = 82.78%\n"
     ]
    },
    {
     "name": "stderr",
     "output_type": "stream",
     "text": [
      "Epoch [34]: 100%|██████████| 391/391 [00:08<00:00, 45.85it/s, acc=85.3, loss=0.415]\n"
     ]
    },
    {
     "name": "stdout",
     "output_type": "stream",
     "text": [
      "Depth-wise Model - Epoch 34: Train Loss = 0.4168, Train Acc = 85.28%, Test Loss = 0.5559, Test Acc = 82.20%\n"
     ]
    },
    {
     "name": "stderr",
     "output_type": "stream",
     "text": [
      "Epoch [35]: 100%|██████████| 391/391 [00:08<00:00, 47.09it/s, acc=85.2, loss=0.432]\n"
     ]
    },
    {
     "name": "stdout",
     "output_type": "stream",
     "text": [
      "Depth-wise Model - Epoch 35: Train Loss = 0.4201, Train Acc = 85.16%, Test Loss = 0.5382, Test Acc = 82.22%\n"
     ]
    },
    {
     "name": "stderr",
     "output_type": "stream",
     "text": [
      "Epoch [36]: 100%|██████████| 391/391 [00:08<00:00, 43.48it/s, acc=85.5, loss=0.417]\n"
     ]
    },
    {
     "name": "stdout",
     "output_type": "stream",
     "text": [
      "Depth-wise Model - Epoch 36: Train Loss = 0.4150, Train Acc = 85.49%, Test Loss = 0.4926, Test Acc = 83.40%\n"
     ]
    },
    {
     "name": "stderr",
     "output_type": "stream",
     "text": [
      "Epoch [37]: 100%|██████████| 391/391 [00:09<00:00, 43.28it/s, acc=86.1, loss=0.501]\n"
     ]
    },
    {
     "name": "stdout",
     "output_type": "stream",
     "text": [
      "Depth-wise Model - Epoch 37: Train Loss = 0.4014, Train Acc = 86.06%, Test Loss = 0.4845, Test Acc = 83.71%\n"
     ]
    },
    {
     "name": "stderr",
     "output_type": "stream",
     "text": [
      "Epoch [38]: 100%|██████████| 391/391 [00:08<00:00, 44.00it/s, acc=85.9, loss=0.382]\n"
     ]
    },
    {
     "name": "stdout",
     "output_type": "stream",
     "text": [
      "Depth-wise Model - Epoch 38: Train Loss = 0.4071, Train Acc = 85.87%, Test Loss = 0.4960, Test Acc = 83.44%\n"
     ]
    },
    {
     "name": "stderr",
     "output_type": "stream",
     "text": [
      "Epoch [39]: 100%|██████████| 391/391 [00:08<00:00, 44.13it/s, acc=85.8, loss=0.563]\n"
     ]
    },
    {
     "name": "stdout",
     "output_type": "stream",
     "text": [
      "Depth-wise Model - Epoch 39: Train Loss = 0.4022, Train Acc = 85.81%, Test Loss = 0.5050, Test Acc = 83.37%\n"
     ]
    },
    {
     "name": "stderr",
     "output_type": "stream",
     "text": [
      "Epoch [40]: 100%|██████████| 391/391 [00:08<00:00, 43.91it/s, acc=85.9, loss=0.387]\n"
     ]
    },
    {
     "name": "stdout",
     "output_type": "stream",
     "text": [
      "Depth-wise Model - Epoch 40: Train Loss = 0.4010, Train Acc = 85.89%, Test Loss = 0.4961, Test Acc = 83.64%\n"
     ]
    },
    {
     "name": "stderr",
     "output_type": "stream",
     "text": [
      "Epoch [41]: 100%|██████████| 391/391 [00:08<00:00, 43.56it/s, acc=86.2, loss=0.32] \n"
     ]
    },
    {
     "name": "stdout",
     "output_type": "stream",
     "text": [
      "Depth-wise Model - Epoch 41: Train Loss = 0.3942, Train Acc = 86.16%, Test Loss = 0.4801, Test Acc = 84.15%\n"
     ]
    },
    {
     "name": "stderr",
     "output_type": "stream",
     "text": [
      "Epoch [42]: 100%|██████████| 391/391 [00:09<00:00, 42.94it/s, acc=86.2, loss=0.608]\n"
     ]
    },
    {
     "name": "stdout",
     "output_type": "stream",
     "text": [
      "Depth-wise Model - Epoch 42: Train Loss = 0.3956, Train Acc = 86.15%, Test Loss = 0.5014, Test Acc = 83.25%\n"
     ]
    },
    {
     "name": "stderr",
     "output_type": "stream",
     "text": [
      "Epoch [43]: 100%|██████████| 391/391 [00:09<00:00, 41.58it/s, acc=86.3, loss=0.346]\n"
     ]
    },
    {
     "name": "stdout",
     "output_type": "stream",
     "text": [
      "Depth-wise Model - Epoch 43: Train Loss = 0.3883, Train Acc = 86.34%, Test Loss = 0.4768, Test Acc = 83.91%\n"
     ]
    },
    {
     "name": "stderr",
     "output_type": "stream",
     "text": [
      "Epoch [44]: 100%|██████████| 391/391 [00:08<00:00, 43.94it/s, acc=86.6, loss=0.376]\n"
     ]
    },
    {
     "name": "stdout",
     "output_type": "stream",
     "text": [
      "Depth-wise Model - Epoch 44: Train Loss = 0.3815, Train Acc = 86.63%, Test Loss = 0.5203, Test Acc = 82.79%\n"
     ]
    },
    {
     "name": "stderr",
     "output_type": "stream",
     "text": [
      "Epoch [45]: 100%|██████████| 391/391 [00:08<00:00, 44.30it/s, acc=86.5, loss=0.602]\n"
     ]
    },
    {
     "name": "stdout",
     "output_type": "stream",
     "text": [
      "Depth-wise Model - Epoch 45: Train Loss = 0.3869, Train Acc = 86.51%, Test Loss = 0.4959, Test Acc = 83.47%\n"
     ]
    },
    {
     "name": "stderr",
     "output_type": "stream",
     "text": [
      "Epoch [46]: 100%|██████████| 391/391 [00:08<00:00, 46.63it/s, acc=86.5, loss=0.329]\n"
     ]
    },
    {
     "name": "stdout",
     "output_type": "stream",
     "text": [
      "Depth-wise Model - Epoch 46: Train Loss = 0.3809, Train Acc = 86.48%, Test Loss = 0.4898, Test Acc = 83.59%\n"
     ]
    },
    {
     "name": "stderr",
     "output_type": "stream",
     "text": [
      "Epoch [47]: 100%|██████████| 391/391 [00:08<00:00, 43.96it/s, acc=86.9, loss=0.335]\n"
     ]
    },
    {
     "name": "stdout",
     "output_type": "stream",
     "text": [
      "Depth-wise Model - Epoch 47: Train Loss = 0.3745, Train Acc = 86.93%, Test Loss = 0.4841, Test Acc = 84.42%\n"
     ]
    },
    {
     "name": "stderr",
     "output_type": "stream",
     "text": [
      "Epoch [48]: 100%|██████████| 391/391 [00:09<00:00, 41.73it/s, acc=86.9, loss=0.279]\n"
     ]
    },
    {
     "name": "stdout",
     "output_type": "stream",
     "text": [
      "Depth-wise Model - Epoch 48: Train Loss = 0.3780, Train Acc = 86.90%, Test Loss = 0.5079, Test Acc = 82.83%\n"
     ]
    },
    {
     "name": "stderr",
     "output_type": "stream",
     "text": [
      "Epoch [49]: 100%|██████████| 391/391 [00:09<00:00, 43.32it/s, acc=86.8, loss=0.339]\n"
     ]
    },
    {
     "name": "stdout",
     "output_type": "stream",
     "text": [
      "Depth-wise Model - Epoch 49: Train Loss = 0.3731, Train Acc = 86.82%, Test Loss = 0.4827, Test Acc = 83.98%\n"
     ]
    },
    {
     "name": "stderr",
     "output_type": "stream",
     "text": [
      "Epoch [50]: 100%|██████████| 391/391 [00:08<00:00, 45.98it/s, acc=87, loss=0.661]  \n"
     ]
    },
    {
     "name": "stdout",
     "output_type": "stream",
     "text": [
      "Depth-wise Model - Epoch 50: Train Loss = 0.3698, Train Acc = 86.97%, Test Loss = 0.4855, Test Acc = 84.33%\n"
     ]
    },
    {
     "name": "stderr",
     "output_type": "stream",
     "text": [
      "Epoch [51]: 100%|██████████| 391/391 [00:08<00:00, 45.37it/s, acc=86.9, loss=0.485]\n"
     ]
    },
    {
     "name": "stdout",
     "output_type": "stream",
     "text": [
      "Depth-wise Model - Epoch 51: Train Loss = 0.3698, Train Acc = 86.90%, Test Loss = 0.4881, Test Acc = 84.06%\n"
     ]
    },
    {
     "name": "stderr",
     "output_type": "stream",
     "text": [
      "Epoch [52]: 100%|██████████| 391/391 [00:08<00:00, 43.74it/s, acc=87.1, loss=0.359]\n"
     ]
    },
    {
     "name": "stdout",
     "output_type": "stream",
     "text": [
      "Depth-wise Model - Epoch 52: Train Loss = 0.3664, Train Acc = 87.14%, Test Loss = 0.4589, Test Acc = 84.64%\n"
     ]
    },
    {
     "name": "stderr",
     "output_type": "stream",
     "text": [
      "Epoch [53]: 100%|██████████| 391/391 [00:08<00:00, 45.78it/s, acc=87.2, loss=0.37] \n"
     ]
    },
    {
     "name": "stdout",
     "output_type": "stream",
     "text": [
      "Depth-wise Model - Epoch 53: Train Loss = 0.3648, Train Acc = 87.16%, Test Loss = 0.4864, Test Acc = 84.29%\n"
     ]
    },
    {
     "name": "stderr",
     "output_type": "stream",
     "text": [
      "Epoch [54]: 100%|██████████| 391/391 [00:08<00:00, 43.60it/s, acc=87, loss=0.367]  \n"
     ]
    },
    {
     "name": "stdout",
     "output_type": "stream",
     "text": [
      "Depth-wise Model - Epoch 54: Train Loss = 0.3663, Train Acc = 86.96%, Test Loss = 0.4703, Test Acc = 84.59%\n"
     ]
    },
    {
     "name": "stderr",
     "output_type": "stream",
     "text": [
      "Epoch [55]: 100%|██████████| 391/391 [00:08<00:00, 43.75it/s, acc=87.4, loss=0.452]\n"
     ]
    },
    {
     "name": "stdout",
     "output_type": "stream",
     "text": [
      "Depth-wise Model - Epoch 55: Train Loss = 0.3571, Train Acc = 87.44%, Test Loss = 0.4835, Test Acc = 84.59%\n"
     ]
    },
    {
     "name": "stderr",
     "output_type": "stream",
     "text": [
      "Epoch [56]: 100%|██████████| 391/391 [00:08<00:00, 43.87it/s, acc=87.3, loss=0.299]\n"
     ]
    },
    {
     "name": "stdout",
     "output_type": "stream",
     "text": [
      "Depth-wise Model - Epoch 56: Train Loss = 0.3617, Train Acc = 87.33%, Test Loss = 0.4998, Test Acc = 83.68%\n"
     ]
    },
    {
     "name": "stderr",
     "output_type": "stream",
     "text": [
      "Epoch [57]: 100%|██████████| 391/391 [00:09<00:00, 43.42it/s, acc=87.4, loss=0.607]\n"
     ]
    },
    {
     "name": "stdout",
     "output_type": "stream",
     "text": [
      "Depth-wise Model - Epoch 57: Train Loss = 0.3589, Train Acc = 87.38%, Test Loss = 0.5326, Test Acc = 83.03%\n"
     ]
    },
    {
     "name": "stderr",
     "output_type": "stream",
     "text": [
      "Epoch [58]: 100%|██████████| 391/391 [00:08<00:00, 43.57it/s, acc=87.7, loss=0.373]\n"
     ]
    },
    {
     "name": "stdout",
     "output_type": "stream",
     "text": [
      "Depth-wise Model - Epoch 58: Train Loss = 0.3533, Train Acc = 87.65%, Test Loss = 0.4834, Test Acc = 84.06%\n"
     ]
    },
    {
     "name": "stderr",
     "output_type": "stream",
     "text": [
      "Epoch [59]: 100%|██████████| 391/391 [00:08<00:00, 46.81it/s, acc=87.4, loss=0.449]\n"
     ]
    },
    {
     "name": "stdout",
     "output_type": "stream",
     "text": [
      "Depth-wise Model - Epoch 59: Train Loss = 0.3529, Train Acc = 87.44%, Test Loss = 0.4772, Test Acc = 84.35%\n"
     ]
    },
    {
     "name": "stderr",
     "output_type": "stream",
     "text": [
      "Epoch [60]: 100%|██████████| 391/391 [00:08<00:00, 44.27it/s, acc=87.7, loss=0.32] \n"
     ]
    },
    {
     "name": "stdout",
     "output_type": "stream",
     "text": [
      "Depth-wise Model - Epoch 60: Train Loss = 0.3467, Train Acc = 87.73%, Test Loss = 0.4714, Test Acc = 84.82%\n"
     ]
    },
    {
     "name": "stderr",
     "output_type": "stream",
     "text": [
      "Epoch [61]: 100%|██████████| 391/391 [00:08<00:00, 45.37it/s, acc=87.7, loss=0.445]\n"
     ]
    },
    {
     "name": "stdout",
     "output_type": "stream",
     "text": [
      "Depth-wise Model - Epoch 61: Train Loss = 0.3504, Train Acc = 87.74%, Test Loss = 0.4621, Test Acc = 85.15%\n"
     ]
    },
    {
     "name": "stderr",
     "output_type": "stream",
     "text": [
      "Epoch [62]: 100%|██████████| 391/391 [00:08<00:00, 45.45it/s, acc=87.7, loss=0.269]\n"
     ]
    },
    {
     "name": "stdout",
     "output_type": "stream",
     "text": [
      "Depth-wise Model - Epoch 62: Train Loss = 0.3479, Train Acc = 87.67%, Test Loss = 0.5066, Test Acc = 83.65%\n"
     ]
    },
    {
     "name": "stderr",
     "output_type": "stream",
     "text": [
      "Epoch [63]: 100%|██████████| 391/391 [00:09<00:00, 43.23it/s, acc=88, loss=0.483]  \n"
     ]
    },
    {
     "name": "stdout",
     "output_type": "stream",
     "text": [
      "Depth-wise Model - Epoch 63: Train Loss = 0.3412, Train Acc = 87.99%, Test Loss = 0.4644, Test Acc = 84.58%\n"
     ]
    },
    {
     "name": "stderr",
     "output_type": "stream",
     "text": [
      "Epoch [64]: 100%|██████████| 391/391 [00:08<00:00, 43.90it/s, acc=88.1, loss=0.298]\n"
     ]
    },
    {
     "name": "stdout",
     "output_type": "stream",
     "text": [
      "Depth-wise Model - Epoch 64: Train Loss = 0.3409, Train Acc = 88.05%, Test Loss = 0.4784, Test Acc = 84.37%\n"
     ]
    },
    {
     "name": "stderr",
     "output_type": "stream",
     "text": [
      "Epoch [65]: 100%|██████████| 391/391 [00:08<00:00, 43.88it/s, acc=88, loss=0.279]  \n"
     ]
    },
    {
     "name": "stdout",
     "output_type": "stream",
     "text": [
      "Depth-wise Model - Epoch 65: Train Loss = 0.3403, Train Acc = 87.96%, Test Loss = 0.4699, Test Acc = 84.68%\n"
     ]
    },
    {
     "name": "stderr",
     "output_type": "stream",
     "text": [
      "Epoch [66]: 100%|██████████| 391/391 [00:08<00:00, 44.35it/s, acc=88, loss=0.493]  \n"
     ]
    },
    {
     "name": "stdout",
     "output_type": "stream",
     "text": [
      "Depth-wise Model - Epoch 66: Train Loss = 0.3406, Train Acc = 87.99%, Test Loss = 0.4604, Test Acc = 84.81%\n"
     ]
    },
    {
     "name": "stderr",
     "output_type": "stream",
     "text": [
      "Epoch [67]: 100%|██████████| 391/391 [00:08<00:00, 43.76it/s, acc=88.1, loss=0.36] \n"
     ]
    },
    {
     "name": "stdout",
     "output_type": "stream",
     "text": [
      "Depth-wise Model - Epoch 67: Train Loss = 0.3393, Train Acc = 88.09%, Test Loss = 0.4815, Test Acc = 84.38%\n"
     ]
    },
    {
     "name": "stderr",
     "output_type": "stream",
     "text": [
      "Epoch [68]: 100%|██████████| 391/391 [00:08<00:00, 45.74it/s, acc=88.2, loss=0.252]\n"
     ]
    },
    {
     "name": "stdout",
     "output_type": "stream",
     "text": [
      "Depth-wise Model - Epoch 68: Train Loss = 0.3307, Train Acc = 88.21%, Test Loss = 0.4750, Test Acc = 84.73%\n"
     ]
    },
    {
     "name": "stderr",
     "output_type": "stream",
     "text": [
      "Epoch [69]: 100%|██████████| 391/391 [00:08<00:00, 43.76it/s, acc=88.1, loss=0.284]\n"
     ]
    },
    {
     "name": "stdout",
     "output_type": "stream",
     "text": [
      "Depth-wise Model - Epoch 69: Train Loss = 0.3394, Train Acc = 88.11%, Test Loss = 0.4704, Test Acc = 84.75%\n"
     ]
    },
    {
     "name": "stderr",
     "output_type": "stream",
     "text": [
      "Epoch [70]: 100%|██████████| 391/391 [00:08<00:00, 44.40it/s, acc=88.2, loss=0.471]\n"
     ]
    },
    {
     "name": "stdout",
     "output_type": "stream",
     "text": [
      "Depth-wise Model - Epoch 70: Train Loss = 0.3343, Train Acc = 88.21%, Test Loss = 0.4758, Test Acc = 84.54%\n"
     ]
    },
    {
     "name": "stderr",
     "output_type": "stream",
     "text": [
      "Epoch [71]: 100%|██████████| 391/391 [00:09<00:00, 42.48it/s, acc=88.2, loss=0.323]\n"
     ]
    },
    {
     "name": "stdout",
     "output_type": "stream",
     "text": [
      "Depth-wise Model - Epoch 71: Train Loss = 0.3299, Train Acc = 88.21%, Test Loss = 0.4805, Test Acc = 84.32%\n"
     ]
    },
    {
     "name": "stderr",
     "output_type": "stream",
     "text": [
      "Epoch [72]: 100%|██████████| 391/391 [00:09<00:00, 43.16it/s, acc=88.3, loss=0.369]\n"
     ]
    },
    {
     "name": "stdout",
     "output_type": "stream",
     "text": [
      "Depth-wise Model - Epoch 72: Train Loss = 0.3310, Train Acc = 88.34%, Test Loss = 0.4560, Test Acc = 85.91%\n"
     ]
    },
    {
     "name": "stderr",
     "output_type": "stream",
     "text": [
      "Epoch [73]: 100%|██████████| 391/391 [00:09<00:00, 42.82it/s, acc=88.5, loss=0.233]\n"
     ]
    },
    {
     "name": "stdout",
     "output_type": "stream",
     "text": [
      "Depth-wise Model - Epoch 73: Train Loss = 0.3239, Train Acc = 88.52%, Test Loss = 0.4704, Test Acc = 85.16%\n"
     ]
    },
    {
     "name": "stderr",
     "output_type": "stream",
     "text": [
      "Epoch [74]: 100%|██████████| 391/391 [00:09<00:00, 43.12it/s, acc=88.5, loss=0.282]\n"
     ]
    },
    {
     "name": "stdout",
     "output_type": "stream",
     "text": [
      "Depth-wise Model - Epoch 74: Train Loss = 0.3264, Train Acc = 88.50%, Test Loss = 0.4765, Test Acc = 84.84%\n"
     ]
    },
    {
     "name": "stderr",
     "output_type": "stream",
     "text": [
      "Epoch [75]: 100%|██████████| 391/391 [00:08<00:00, 44.09it/s, acc=88.5, loss=0.422]\n"
     ]
    },
    {
     "name": "stdout",
     "output_type": "stream",
     "text": [
      "Depth-wise Model - Epoch 75: Train Loss = 0.3248, Train Acc = 88.46%, Test Loss = 0.4837, Test Acc = 84.93%\n"
     ]
    },
    {
     "name": "stderr",
     "output_type": "stream",
     "text": [
      "Epoch [76]: 100%|██████████| 391/391 [00:08<00:00, 45.00it/s, acc=88.7, loss=0.348]\n"
     ]
    },
    {
     "name": "stdout",
     "output_type": "stream",
     "text": [
      "Depth-wise Model - Epoch 76: Train Loss = 0.3209, Train Acc = 88.73%, Test Loss = 0.4724, Test Acc = 85.31%\n"
     ]
    },
    {
     "name": "stderr",
     "output_type": "stream",
     "text": [
      "Epoch [77]: 100%|██████████| 391/391 [00:08<00:00, 43.56it/s, acc=88.5, loss=0.395]\n"
     ]
    },
    {
     "name": "stdout",
     "output_type": "stream",
     "text": [
      "Depth-wise Model - Epoch 77: Train Loss = 0.3281, Train Acc = 88.50%, Test Loss = 0.4521, Test Acc = 85.42%\n"
     ]
    },
    {
     "name": "stderr",
     "output_type": "stream",
     "text": [
      "Epoch [78]: 100%|██████████| 391/391 [00:08<00:00, 44.95it/s, acc=88.8, loss=0.306]\n"
     ]
    },
    {
     "name": "stdout",
     "output_type": "stream",
     "text": [
      "Depth-wise Model - Epoch 78: Train Loss = 0.3203, Train Acc = 88.79%, Test Loss = 0.4876, Test Acc = 85.01%\n"
     ]
    },
    {
     "name": "stderr",
     "output_type": "stream",
     "text": [
      "Epoch [79]: 100%|██████████| 391/391 [00:08<00:00, 44.44it/s, acc=88.7, loss=0.359]\n"
     ]
    },
    {
     "name": "stdout",
     "output_type": "stream",
     "text": [
      "Depth-wise Model - Epoch 79: Train Loss = 0.3222, Train Acc = 88.72%, Test Loss = 0.4707, Test Acc = 85.02%\n"
     ]
    },
    {
     "name": "stderr",
     "output_type": "stream",
     "text": [
      "Epoch [80]: 100%|██████████| 391/391 [00:09<00:00, 42.53it/s, acc=89, loss=0.236]  \n"
     ]
    },
    {
     "name": "stdout",
     "output_type": "stream",
     "text": [
      "Depth-wise Model - Epoch 80: Train Loss = 0.3153, Train Acc = 89.03%, Test Loss = 0.4669, Test Acc = 85.06%\n"
     ]
    },
    {
     "name": "stderr",
     "output_type": "stream",
     "text": [
      "Epoch [81]: 100%|██████████| 391/391 [00:09<00:00, 42.80it/s, acc=88.8, loss=0.337]\n"
     ]
    },
    {
     "name": "stdout",
     "output_type": "stream",
     "text": [
      "Depth-wise Model - Epoch 81: Train Loss = 0.3156, Train Acc = 88.80%, Test Loss = 0.4851, Test Acc = 84.52%\n"
     ]
    },
    {
     "name": "stderr",
     "output_type": "stream",
     "text": [
      "Epoch [82]: 100%|██████████| 391/391 [00:09<00:00, 43.44it/s, acc=88.8, loss=0.225]\n"
     ]
    },
    {
     "name": "stdout",
     "output_type": "stream",
     "text": [
      "Depth-wise Model - Epoch 82: Train Loss = 0.3167, Train Acc = 88.82%, Test Loss = 0.4753, Test Acc = 84.95%\n"
     ]
    },
    {
     "name": "stderr",
     "output_type": "stream",
     "text": [
      "Epoch [83]: 100%|██████████| 391/391 [00:08<00:00, 44.27it/s, acc=88.9, loss=0.392]\n"
     ]
    },
    {
     "name": "stdout",
     "output_type": "stream",
     "text": [
      "Depth-wise Model - Epoch 83: Train Loss = 0.3181, Train Acc = 88.87%, Test Loss = 0.5113, Test Acc = 83.72%\n"
     ]
    },
    {
     "name": "stderr",
     "output_type": "stream",
     "text": [
      "Epoch [84]: 100%|██████████| 391/391 [00:09<00:00, 43.35it/s, acc=88.8, loss=0.454]\n"
     ]
    },
    {
     "name": "stdout",
     "output_type": "stream",
     "text": [
      "Depth-wise Model - Epoch 84: Train Loss = 0.3175, Train Acc = 88.75%, Test Loss = 0.4494, Test Acc = 85.65%\n"
     ]
    },
    {
     "name": "stderr",
     "output_type": "stream",
     "text": [
      "Epoch [85]: 100%|██████████| 391/391 [00:08<00:00, 44.40it/s, acc=88.8, loss=0.259]\n"
     ]
    },
    {
     "name": "stdout",
     "output_type": "stream",
     "text": [
      "Depth-wise Model - Epoch 85: Train Loss = 0.3114, Train Acc = 88.84%, Test Loss = 0.4945, Test Acc = 84.81%\n"
     ]
    },
    {
     "name": "stderr",
     "output_type": "stream",
     "text": [
      "Epoch [86]: 100%|██████████| 391/391 [00:09<00:00, 42.47it/s, acc=89.3, loss=0.319]\n"
     ]
    },
    {
     "name": "stdout",
     "output_type": "stream",
     "text": [
      "Depth-wise Model - Epoch 86: Train Loss = 0.3091, Train Acc = 89.25%, Test Loss = 0.4550, Test Acc = 85.49%\n"
     ]
    },
    {
     "name": "stderr",
     "output_type": "stream",
     "text": [
      "Epoch [87]: 100%|██████████| 391/391 [00:09<00:00, 42.92it/s, acc=89, loss=0.221]  \n"
     ]
    },
    {
     "name": "stdout",
     "output_type": "stream",
     "text": [
      "Depth-wise Model - Epoch 87: Train Loss = 0.3116, Train Acc = 88.98%, Test Loss = 0.4515, Test Acc = 85.67%\n"
     ]
    },
    {
     "name": "stderr",
     "output_type": "stream",
     "text": [
      "Epoch [88]: 100%|██████████| 391/391 [00:08<00:00, 43.59it/s, acc=89.1, loss=0.24] \n"
     ]
    },
    {
     "name": "stdout",
     "output_type": "stream",
     "text": [
      "Depth-wise Model - Epoch 88: Train Loss = 0.3089, Train Acc = 89.15%, Test Loss = 0.4568, Test Acc = 85.29%\n"
     ]
    },
    {
     "name": "stderr",
     "output_type": "stream",
     "text": [
      "Epoch [89]: 100%|██████████| 391/391 [00:09<00:00, 42.34it/s, acc=89, loss=0.322]  \n"
     ]
    },
    {
     "name": "stdout",
     "output_type": "stream",
     "text": [
      "Depth-wise Model - Epoch 89: Train Loss = 0.3093, Train Acc = 89.01%, Test Loss = 0.4917, Test Acc = 84.78%\n"
     ]
    },
    {
     "name": "stderr",
     "output_type": "stream",
     "text": [
      "Epoch [90]: 100%|██████████| 391/391 [00:08<00:00, 43.79it/s, acc=89.3, loss=0.407]\n"
     ]
    },
    {
     "name": "stdout",
     "output_type": "stream",
     "text": [
      "Depth-wise Model - Epoch 90: Train Loss = 0.3077, Train Acc = 89.26%, Test Loss = 0.4571, Test Acc = 85.54%\n"
     ]
    },
    {
     "name": "stderr",
     "output_type": "stream",
     "text": [
      "Epoch [91]: 100%|██████████| 391/391 [00:08<00:00, 46.33it/s, acc=89.4, loss=0.18] \n"
     ]
    },
    {
     "name": "stdout",
     "output_type": "stream",
     "text": [
      "Depth-wise Model - Epoch 91: Train Loss = 0.3039, Train Acc = 89.37%, Test Loss = 0.4408, Test Acc = 85.89%\n"
     ]
    },
    {
     "name": "stderr",
     "output_type": "stream",
     "text": [
      "Epoch [92]: 100%|██████████| 391/391 [00:09<00:00, 43.00it/s, acc=89.2, loss=0.243]\n"
     ]
    },
    {
     "name": "stdout",
     "output_type": "stream",
     "text": [
      "Depth-wise Model - Epoch 92: Train Loss = 0.3077, Train Acc = 89.23%, Test Loss = 0.4504, Test Acc = 85.65%\n"
     ]
    },
    {
     "name": "stderr",
     "output_type": "stream",
     "text": [
      "Epoch [93]: 100%|██████████| 391/391 [00:08<00:00, 44.15it/s, acc=89.3, loss=0.265]\n"
     ]
    },
    {
     "name": "stdout",
     "output_type": "stream",
     "text": [
      "Depth-wise Model - Epoch 93: Train Loss = 0.3046, Train Acc = 89.30%, Test Loss = 0.4704, Test Acc = 85.36%\n"
     ]
    },
    {
     "name": "stderr",
     "output_type": "stream",
     "text": [
      "Epoch [94]: 100%|██████████| 391/391 [00:08<00:00, 44.41it/s, acc=89.2, loss=0.319]\n"
     ]
    },
    {
     "name": "stdout",
     "output_type": "stream",
     "text": [
      "Depth-wise Model - Epoch 94: Train Loss = 0.3031, Train Acc = 89.18%, Test Loss = 0.4510, Test Acc = 85.78%\n"
     ]
    },
    {
     "name": "stderr",
     "output_type": "stream",
     "text": [
      "Epoch [95]: 100%|██████████| 391/391 [00:08<00:00, 43.84it/s, acc=89.3, loss=0.311]\n"
     ]
    },
    {
     "name": "stdout",
     "output_type": "stream",
     "text": [
      "Depth-wise Model - Epoch 95: Train Loss = 0.3018, Train Acc = 89.26%, Test Loss = 0.4405, Test Acc = 85.98%\n"
     ]
    },
    {
     "name": "stderr",
     "output_type": "stream",
     "text": [
      "Epoch [96]: 100%|██████████| 391/391 [00:08<00:00, 43.90it/s, acc=89.3, loss=0.201]\n"
     ]
    },
    {
     "name": "stdout",
     "output_type": "stream",
     "text": [
      "Depth-wise Model - Epoch 96: Train Loss = 0.3028, Train Acc = 89.32%, Test Loss = 0.4675, Test Acc = 85.52%\n"
     ]
    },
    {
     "name": "stderr",
     "output_type": "stream",
     "text": [
      "Epoch [97]: 100%|██████████| 391/391 [00:09<00:00, 43.22it/s, acc=89.4, loss=0.348]\n"
     ]
    },
    {
     "name": "stdout",
     "output_type": "stream",
     "text": [
      "Depth-wise Model - Epoch 97: Train Loss = 0.2990, Train Acc = 89.43%, Test Loss = 0.4773, Test Acc = 85.22%\n"
     ]
    },
    {
     "name": "stderr",
     "output_type": "stream",
     "text": [
      "Epoch [98]: 100%|██████████| 391/391 [00:09<00:00, 42.94it/s, acc=89.2, loss=0.348]\n"
     ]
    },
    {
     "name": "stdout",
     "output_type": "stream",
     "text": [
      "Depth-wise Model - Epoch 98: Train Loss = 0.3014, Train Acc = 89.23%, Test Loss = 0.5123, Test Acc = 84.12%\n"
     ]
    },
    {
     "name": "stderr",
     "output_type": "stream",
     "text": [
      "Epoch [99]: 100%|██████████| 391/391 [00:08<00:00, 43.61it/s, acc=89.5, loss=0.259]\n"
     ]
    },
    {
     "name": "stdout",
     "output_type": "stream",
     "text": [
      "Depth-wise Model - Epoch 99: Train Loss = 0.2965, Train Acc = 89.47%, Test Loss = 0.4842, Test Acc = 84.88%\n"
     ]
    },
    {
     "name": "stderr",
     "output_type": "stream",
     "text": [
      "Epoch [100]: 100%|██████████| 391/391 [00:08<00:00, 43.50it/s, acc=89.5, loss=0.333]\n"
     ]
    },
    {
     "name": "stdout",
     "output_type": "stream",
     "text": [
      "Depth-wise Model - Epoch 100: Train Loss = 0.2963, Train Acc = 89.51%, Test Loss = 0.4393, Test Acc = 85.83%\n",
      "\n",
      "Traditional Convolution Model:\n",
      "Number of trainable parameters: 116786\n",
      "\n",
      "Training Traditional Model ...\n"
     ]
    },
    {
     "name": "stderr",
     "output_type": "stream",
     "text": [
      "Epoch [1]: 100%|██████████| 391/391 [00:08<00:00, 46.67it/s, acc=48.3, loss=1.06] \n"
     ]
    },
    {
     "name": "stdout",
     "output_type": "stream",
     "text": [
      "Traditional Model - Epoch 1: Train Loss = 1.4232, Train Acc = 48.27%, Test Loss = 1.2017, Test Acc = 57.19%\n"
     ]
    },
    {
     "name": "stderr",
     "output_type": "stream",
     "text": [
      "Epoch [2]: 100%|██████████| 391/391 [00:08<00:00, 46.20it/s, acc=64.6, loss=0.963]\n"
     ]
    },
    {
     "name": "stdout",
     "output_type": "stream",
     "text": [
      "Traditional Model - Epoch 2: Train Loss = 0.9926, Train Acc = 64.59%, Test Loss = 1.1969, Test Acc = 59.13%\n"
     ]
    },
    {
     "name": "stderr",
     "output_type": "stream",
     "text": [
      "Epoch [3]: 100%|██████████| 391/391 [00:08<00:00, 46.57it/s, acc=70.4, loss=0.687]\n"
     ]
    },
    {
     "name": "stdout",
     "output_type": "stream",
     "text": [
      "Traditional Model - Epoch 3: Train Loss = 0.8365, Train Acc = 70.38%, Test Loss = 0.9666, Test Acc = 67.31%\n"
     ]
    },
    {
     "name": "stderr",
     "output_type": "stream",
     "text": [
      "Epoch [4]: 100%|██████████| 391/391 [00:08<00:00, 47.00it/s, acc=74.2, loss=0.625]\n"
     ]
    },
    {
     "name": "stdout",
     "output_type": "stream",
     "text": [
      "Traditional Model - Epoch 4: Train Loss = 0.7358, Train Acc = 74.18%, Test Loss = 0.7440, Test Acc = 73.74%\n"
     ]
    },
    {
     "name": "stderr",
     "output_type": "stream",
     "text": [
      "Epoch [5]: 100%|██████████| 391/391 [00:08<00:00, 47.24it/s, acc=76.5, loss=0.701]\n"
     ]
    },
    {
     "name": "stdout",
     "output_type": "stream",
     "text": [
      "Traditional Model - Epoch 5: Train Loss = 0.6721, Train Acc = 76.52%, Test Loss = 0.6856, Test Acc = 76.44%\n"
     ]
    },
    {
     "name": "stderr",
     "output_type": "stream",
     "text": [
      "Epoch [6]: 100%|██████████| 391/391 [00:08<00:00, 48.02it/s, acc=78.4, loss=0.537]\n"
     ]
    },
    {
     "name": "stdout",
     "output_type": "stream",
     "text": [
      "Traditional Model - Epoch 6: Train Loss = 0.6186, Train Acc = 78.43%, Test Loss = 0.7565, Test Acc = 73.58%\n"
     ]
    },
    {
     "name": "stderr",
     "output_type": "stream",
     "text": [
      "Epoch [7]: 100%|██████████| 391/391 [00:08<00:00, 47.50it/s, acc=79.7, loss=0.639]\n"
     ]
    },
    {
     "name": "stdout",
     "output_type": "stream",
     "text": [
      "Traditional Model - Epoch 7: Train Loss = 0.5848, Train Acc = 79.75%, Test Loss = 0.6788, Test Acc = 76.81%\n"
     ]
    },
    {
     "name": "stderr",
     "output_type": "stream",
     "text": [
      "Epoch [8]: 100%|██████████| 391/391 [00:08<00:00, 47.89it/s, acc=80.8, loss=0.591]\n"
     ]
    },
    {
     "name": "stdout",
     "output_type": "stream",
     "text": [
      "Traditional Model - Epoch 8: Train Loss = 0.5558, Train Acc = 80.80%, Test Loss = 0.6140, Test Acc = 78.88%\n"
     ]
    },
    {
     "name": "stderr",
     "output_type": "stream",
     "text": [
      "Epoch [9]: 100%|██████████| 391/391 [00:08<00:00, 47.27it/s, acc=81.9, loss=0.485]\n"
     ]
    },
    {
     "name": "stdout",
     "output_type": "stream",
     "text": [
      "Traditional Model - Epoch 9: Train Loss = 0.5253, Train Acc = 81.93%, Test Loss = 0.6269, Test Acc = 78.82%\n"
     ]
    },
    {
     "name": "stderr",
     "output_type": "stream",
     "text": [
      "Epoch [10]: 100%|██████████| 391/391 [00:08<00:00, 47.73it/s, acc=82.5, loss=0.275]\n"
     ]
    },
    {
     "name": "stdout",
     "output_type": "stream",
     "text": [
      "Traditional Model - Epoch 10: Train Loss = 0.5049, Train Acc = 82.48%, Test Loss = 0.6586, Test Acc = 77.94%\n"
     ]
    },
    {
     "name": "stderr",
     "output_type": "stream",
     "text": [
      "Epoch [11]: 100%|██████████| 391/391 [00:08<00:00, 47.91it/s, acc=83.1, loss=0.504]\n"
     ]
    },
    {
     "name": "stdout",
     "output_type": "stream",
     "text": [
      "Traditional Model - Epoch 11: Train Loss = 0.4895, Train Acc = 83.15%, Test Loss = 0.5539, Test Acc = 81.83%\n"
     ]
    },
    {
     "name": "stderr",
     "output_type": "stream",
     "text": [
      "Epoch [12]: 100%|██████████| 391/391 [00:08<00:00, 47.85it/s, acc=84, loss=0.504]  \n"
     ]
    },
    {
     "name": "stdout",
     "output_type": "stream",
     "text": [
      "Traditional Model - Epoch 12: Train Loss = 0.4670, Train Acc = 83.98%, Test Loss = 0.5325, Test Acc = 82.07%\n"
     ]
    },
    {
     "name": "stderr",
     "output_type": "stream",
     "text": [
      "Epoch [13]: 100%|██████████| 391/391 [00:08<00:00, 47.26it/s, acc=84.3, loss=0.481]\n"
     ]
    },
    {
     "name": "stdout",
     "output_type": "stream",
     "text": [
      "Traditional Model - Epoch 13: Train Loss = 0.4532, Train Acc = 84.28%, Test Loss = 0.5436, Test Acc = 81.76%\n"
     ]
    },
    {
     "name": "stderr",
     "output_type": "stream",
     "text": [
      "Epoch [14]: 100%|██████████| 391/391 [00:08<00:00, 47.21it/s, acc=84.8, loss=0.575]\n"
     ]
    },
    {
     "name": "stdout",
     "output_type": "stream",
     "text": [
      "Traditional Model - Epoch 14: Train Loss = 0.4346, Train Acc = 84.83%, Test Loss = 0.5321, Test Acc = 82.10%\n"
     ]
    },
    {
     "name": "stderr",
     "output_type": "stream",
     "text": [
      "Epoch [15]: 100%|██████████| 391/391 [00:08<00:00, 47.24it/s, acc=85.3, loss=0.398]\n"
     ]
    },
    {
     "name": "stdout",
     "output_type": "stream",
     "text": [
      "Traditional Model - Epoch 15: Train Loss = 0.4230, Train Acc = 85.32%, Test Loss = 0.5629, Test Acc = 80.98%\n"
     ]
    },
    {
     "name": "stderr",
     "output_type": "stream",
     "text": [
      "Epoch [16]: 100%|██████████| 391/391 [00:08<00:00, 47.47it/s, acc=85.6, loss=0.509]\n"
     ]
    },
    {
     "name": "stdout",
     "output_type": "stream",
     "text": [
      "Traditional Model - Epoch 16: Train Loss = 0.4165, Train Acc = 85.57%, Test Loss = 0.5573, Test Acc = 82.04%\n"
     ]
    },
    {
     "name": "stderr",
     "output_type": "stream",
     "text": [
      "Epoch [17]: 100%|██████████| 391/391 [00:07<00:00, 49.06it/s, acc=85.9, loss=0.454]\n"
     ]
    },
    {
     "name": "stdout",
     "output_type": "stream",
     "text": [
      "Traditional Model - Epoch 17: Train Loss = 0.4060, Train Acc = 85.92%, Test Loss = 0.4960, Test Acc = 83.38%\n"
     ]
    },
    {
     "name": "stderr",
     "output_type": "stream",
     "text": [
      "Epoch [18]: 100%|██████████| 391/391 [00:08<00:00, 47.70it/s, acc=86.7, loss=0.43] \n"
     ]
    },
    {
     "name": "stdout",
     "output_type": "stream",
     "text": [
      "Traditional Model - Epoch 18: Train Loss = 0.3846, Train Acc = 86.69%, Test Loss = 0.5142, Test Acc = 83.65%\n"
     ]
    },
    {
     "name": "stderr",
     "output_type": "stream",
     "text": [
      "Epoch [19]: 100%|██████████| 391/391 [00:08<00:00, 47.78it/s, acc=86.6, loss=0.507]\n"
     ]
    },
    {
     "name": "stdout",
     "output_type": "stream",
     "text": [
      "Traditional Model - Epoch 19: Train Loss = 0.3853, Train Acc = 86.59%, Test Loss = 0.4620, Test Acc = 84.43%\n"
     ]
    },
    {
     "name": "stderr",
     "output_type": "stream",
     "text": [
      "Epoch [20]: 100%|██████████| 391/391 [00:08<00:00, 47.76it/s, acc=86.9, loss=0.364]\n"
     ]
    },
    {
     "name": "stdout",
     "output_type": "stream",
     "text": [
      "Traditional Model - Epoch 20: Train Loss = 0.3728, Train Acc = 86.93%, Test Loss = 0.4685, Test Acc = 84.36%\n"
     ]
    },
    {
     "name": "stderr",
     "output_type": "stream",
     "text": [
      "Epoch [21]: 100%|██████████| 391/391 [00:08<00:00, 47.30it/s, acc=87.2, loss=0.387]\n"
     ]
    },
    {
     "name": "stdout",
     "output_type": "stream",
     "text": [
      "Traditional Model - Epoch 21: Train Loss = 0.3678, Train Acc = 87.19%, Test Loss = 0.4522, Test Acc = 85.28%\n"
     ]
    },
    {
     "name": "stderr",
     "output_type": "stream",
     "text": [
      "Epoch [22]: 100%|██████████| 391/391 [00:08<00:00, 47.64it/s, acc=87.5, loss=0.339]\n"
     ]
    },
    {
     "name": "stdout",
     "output_type": "stream",
     "text": [
      "Traditional Model - Epoch 22: Train Loss = 0.3587, Train Acc = 87.50%, Test Loss = 0.4941, Test Acc = 84.44%\n"
     ]
    },
    {
     "name": "stderr",
     "output_type": "stream",
     "text": [
      "Epoch [23]: 100%|██████████| 391/391 [00:08<00:00, 46.54it/s, acc=87.7, loss=0.389]\n"
     ]
    },
    {
     "name": "stdout",
     "output_type": "stream",
     "text": [
      "Traditional Model - Epoch 23: Train Loss = 0.3527, Train Acc = 87.68%, Test Loss = 0.4708, Test Acc = 85.14%\n"
     ]
    },
    {
     "name": "stderr",
     "output_type": "stream",
     "text": [
      "Epoch [24]: 100%|██████████| 391/391 [00:08<00:00, 47.32it/s, acc=87.8, loss=0.212]\n"
     ]
    },
    {
     "name": "stdout",
     "output_type": "stream",
     "text": [
      "Traditional Model - Epoch 24: Train Loss = 0.3456, Train Acc = 87.81%, Test Loss = 0.4653, Test Acc = 84.95%\n"
     ]
    },
    {
     "name": "stderr",
     "output_type": "stream",
     "text": [
      "Epoch [25]: 100%|██████████| 391/391 [00:08<00:00, 46.77it/s, acc=88, loss=0.375]  \n"
     ]
    },
    {
     "name": "stdout",
     "output_type": "stream",
     "text": [
      "Traditional Model - Epoch 25: Train Loss = 0.3424, Train Acc = 88.02%, Test Loss = 0.4502, Test Acc = 85.10%\n"
     ]
    },
    {
     "name": "stderr",
     "output_type": "stream",
     "text": [
      "Epoch [26]: 100%|██████████| 391/391 [00:08<00:00, 47.82it/s, acc=88.4, loss=0.35] \n"
     ]
    },
    {
     "name": "stdout",
     "output_type": "stream",
     "text": [
      "Traditional Model - Epoch 26: Train Loss = 0.3335, Train Acc = 88.41%, Test Loss = 0.4462, Test Acc = 85.68%\n"
     ]
    },
    {
     "name": "stderr",
     "output_type": "stream",
     "text": [
      "Epoch [27]: 100%|██████████| 391/391 [00:08<00:00, 46.97it/s, acc=88.6, loss=0.16] \n"
     ]
    },
    {
     "name": "stdout",
     "output_type": "stream",
     "text": [
      "Traditional Model - Epoch 27: Train Loss = 0.3289, Train Acc = 88.58%, Test Loss = 0.4494, Test Acc = 85.42%\n"
     ]
    },
    {
     "name": "stderr",
     "output_type": "stream",
     "text": [
      "Epoch [28]: 100%|██████████| 391/391 [00:08<00:00, 47.13it/s, acc=88.8, loss=0.408]\n"
     ]
    },
    {
     "name": "stdout",
     "output_type": "stream",
     "text": [
      "Traditional Model - Epoch 28: Train Loss = 0.3212, Train Acc = 88.75%, Test Loss = 0.4778, Test Acc = 84.77%\n"
     ]
    },
    {
     "name": "stderr",
     "output_type": "stream",
     "text": [
      "Epoch [29]: 100%|██████████| 391/391 [00:08<00:00, 47.63it/s, acc=88.7, loss=0.289]\n"
     ]
    },
    {
     "name": "stdout",
     "output_type": "stream",
     "text": [
      "Traditional Model - Epoch 29: Train Loss = 0.3223, Train Acc = 88.74%, Test Loss = 0.4332, Test Acc = 85.98%\n"
     ]
    },
    {
     "name": "stderr",
     "output_type": "stream",
     "text": [
      "Epoch [30]: 100%|██████████| 391/391 [00:08<00:00, 47.72it/s, acc=89.1, loss=0.413]\n"
     ]
    },
    {
     "name": "stdout",
     "output_type": "stream",
     "text": [
      "Traditional Model - Epoch 30: Train Loss = 0.3115, Train Acc = 89.05%, Test Loss = 0.4409, Test Acc = 85.93%\n"
     ]
    },
    {
     "name": "stderr",
     "output_type": "stream",
     "text": [
      "Epoch [31]: 100%|██████████| 391/391 [00:08<00:00, 47.52it/s, acc=89.1, loss=0.337]\n"
     ]
    },
    {
     "name": "stdout",
     "output_type": "stream",
     "text": [
      "Traditional Model - Epoch 31: Train Loss = 0.3141, Train Acc = 89.06%, Test Loss = 0.4293, Test Acc = 86.19%\n"
     ]
    },
    {
     "name": "stderr",
     "output_type": "stream",
     "text": [
      "Epoch [32]: 100%|██████████| 391/391 [00:08<00:00, 47.45it/s, acc=89.3, loss=0.176]\n"
     ]
    },
    {
     "name": "stdout",
     "output_type": "stream",
     "text": [
      "Traditional Model - Epoch 32: Train Loss = 0.3031, Train Acc = 89.32%, Test Loss = 0.4246, Test Acc = 86.25%\n"
     ]
    },
    {
     "name": "stderr",
     "output_type": "stream",
     "text": [
      "Epoch [33]: 100%|██████████| 391/391 [00:08<00:00, 46.95it/s, acc=89.6, loss=0.345]\n"
     ]
    },
    {
     "name": "stdout",
     "output_type": "stream",
     "text": [
      "Traditional Model - Epoch 33: Train Loss = 0.2973, Train Acc = 89.63%, Test Loss = 0.4697, Test Acc = 85.37%\n"
     ]
    },
    {
     "name": "stderr",
     "output_type": "stream",
     "text": [
      "Epoch [34]: 100%|██████████| 391/391 [00:08<00:00, 47.93it/s, acc=89.7, loss=0.243]\n"
     ]
    },
    {
     "name": "stdout",
     "output_type": "stream",
     "text": [
      "Traditional Model - Epoch 34: Train Loss = 0.2955, Train Acc = 89.66%, Test Loss = 0.5127, Test Acc = 83.90%\n"
     ]
    },
    {
     "name": "stderr",
     "output_type": "stream",
     "text": [
      "Epoch [35]: 100%|██████████| 391/391 [00:08<00:00, 47.32it/s, acc=89.8, loss=0.289]\n"
     ]
    },
    {
     "name": "stdout",
     "output_type": "stream",
     "text": [
      "Traditional Model - Epoch 35: Train Loss = 0.2918, Train Acc = 89.76%, Test Loss = 0.4344, Test Acc = 86.04%\n"
     ]
    },
    {
     "name": "stderr",
     "output_type": "stream",
     "text": [
      "Epoch [36]: 100%|██████████| 391/391 [00:08<00:00, 47.49it/s, acc=90, loss=0.259]  \n"
     ]
    },
    {
     "name": "stdout",
     "output_type": "stream",
     "text": [
      "Traditional Model - Epoch 36: Train Loss = 0.2835, Train Acc = 90.05%, Test Loss = 0.4250, Test Acc = 86.67%\n"
     ]
    },
    {
     "name": "stderr",
     "output_type": "stream",
     "text": [
      "Epoch [37]: 100%|██████████| 391/391 [00:08<00:00, 47.43it/s, acc=90.1, loss=0.474]\n"
     ]
    },
    {
     "name": "stdout",
     "output_type": "stream",
     "text": [
      "Traditional Model - Epoch 37: Train Loss = 0.2818, Train Acc = 90.14%, Test Loss = 0.4671, Test Acc = 85.06%\n"
     ]
    },
    {
     "name": "stderr",
     "output_type": "stream",
     "text": [
      "Epoch [38]: 100%|██████████| 391/391 [00:08<00:00, 47.35it/s, acc=90.3, loss=0.218]\n"
     ]
    },
    {
     "name": "stdout",
     "output_type": "stream",
     "text": [
      "Traditional Model - Epoch 38: Train Loss = 0.2769, Train Acc = 90.31%, Test Loss = 0.4675, Test Acc = 85.52%\n"
     ]
    },
    {
     "name": "stderr",
     "output_type": "stream",
     "text": [
      "Epoch [39]: 100%|██████████| 391/391 [00:08<00:00, 47.88it/s, acc=90.5, loss=0.189]\n"
     ]
    },
    {
     "name": "stdout",
     "output_type": "stream",
     "text": [
      "Traditional Model - Epoch 39: Train Loss = 0.2707, Train Acc = 90.49%, Test Loss = 0.4375, Test Acc = 86.41%\n"
     ]
    },
    {
     "name": "stderr",
     "output_type": "stream",
     "text": [
      "Epoch [40]: 100%|██████████| 391/391 [00:08<00:00, 48.14it/s, acc=90.5, loss=0.429]\n"
     ]
    },
    {
     "name": "stdout",
     "output_type": "stream",
     "text": [
      "Traditional Model - Epoch 40: Train Loss = 0.2714, Train Acc = 90.52%, Test Loss = 0.4133, Test Acc = 87.14%\n"
     ]
    },
    {
     "name": "stderr",
     "output_type": "stream",
     "text": [
      "Epoch [41]: 100%|██████████| 391/391 [00:08<00:00, 47.45it/s, acc=90.6, loss=0.212]\n"
     ]
    },
    {
     "name": "stdout",
     "output_type": "stream",
     "text": [
      "Traditional Model - Epoch 41: Train Loss = 0.2657, Train Acc = 90.56%, Test Loss = 0.4268, Test Acc = 86.77%\n"
     ]
    },
    {
     "name": "stderr",
     "output_type": "stream",
     "text": [
      "Epoch [42]: 100%|██████████| 391/391 [00:08<00:00, 47.76it/s, acc=90.8, loss=0.246]\n"
     ]
    },
    {
     "name": "stdout",
     "output_type": "stream",
     "text": [
      "Traditional Model - Epoch 42: Train Loss = 0.2596, Train Acc = 90.79%, Test Loss = 0.4149, Test Acc = 87.09%\n"
     ]
    },
    {
     "name": "stderr",
     "output_type": "stream",
     "text": [
      "Epoch [43]: 100%|██████████| 391/391 [00:08<00:00, 47.29it/s, acc=90.8, loss=0.265]\n"
     ]
    },
    {
     "name": "stdout",
     "output_type": "stream",
     "text": [
      "Traditional Model - Epoch 43: Train Loss = 0.2585, Train Acc = 90.85%, Test Loss = 0.4542, Test Acc = 86.00%\n"
     ]
    },
    {
     "name": "stderr",
     "output_type": "stream",
     "text": [
      "Epoch [44]: 100%|██████████| 391/391 [00:08<00:00, 46.76it/s, acc=91.1, loss=0.249]\n"
     ]
    },
    {
     "name": "stdout",
     "output_type": "stream",
     "text": [
      "Traditional Model - Epoch 44: Train Loss = 0.2570, Train Acc = 91.06%, Test Loss = 0.4088, Test Acc = 87.17%\n"
     ]
    },
    {
     "name": "stderr",
     "output_type": "stream",
     "text": [
      "Epoch [45]: 100%|██████████| 391/391 [00:08<00:00, 46.83it/s, acc=91.1, loss=0.174] \n"
     ]
    },
    {
     "name": "stdout",
     "output_type": "stream",
     "text": [
      "Traditional Model - Epoch 45: Train Loss = 0.2521, Train Acc = 91.13%, Test Loss = 0.4501, Test Acc = 86.33%\n"
     ]
    },
    {
     "name": "stderr",
     "output_type": "stream",
     "text": [
      "Epoch [46]: 100%|██████████| 391/391 [00:08<00:00, 47.48it/s, acc=90.9, loss=0.364]\n"
     ]
    },
    {
     "name": "stdout",
     "output_type": "stream",
     "text": [
      "Traditional Model - Epoch 46: Train Loss = 0.2523, Train Acc = 90.94%, Test Loss = 0.4210, Test Acc = 87.08%\n"
     ]
    },
    {
     "name": "stderr",
     "output_type": "stream",
     "text": [
      "Epoch [47]: 100%|██████████| 391/391 [00:08<00:00, 47.42it/s, acc=91.4, loss=0.248] \n"
     ]
    },
    {
     "name": "stdout",
     "output_type": "stream",
     "text": [
      "Traditional Model - Epoch 47: Train Loss = 0.2470, Train Acc = 91.38%, Test Loss = 0.4238, Test Acc = 86.89%\n"
     ]
    },
    {
     "name": "stderr",
     "output_type": "stream",
     "text": [
      "Epoch [48]: 100%|██████████| 391/391 [00:08<00:00, 47.74it/s, acc=91.3, loss=0.277]\n"
     ]
    },
    {
     "name": "stdout",
     "output_type": "stream",
     "text": [
      "Traditional Model - Epoch 48: Train Loss = 0.2437, Train Acc = 91.30%, Test Loss = 0.4646, Test Acc = 85.92%\n"
     ]
    },
    {
     "name": "stderr",
     "output_type": "stream",
     "text": [
      "Epoch [49]: 100%|██████████| 391/391 [00:08<00:00, 47.38it/s, acc=91.5, loss=0.325]\n"
     ]
    },
    {
     "name": "stdout",
     "output_type": "stream",
     "text": [
      "Traditional Model - Epoch 49: Train Loss = 0.2431, Train Acc = 91.46%, Test Loss = 0.4319, Test Acc = 86.56%\n"
     ]
    },
    {
     "name": "stderr",
     "output_type": "stream",
     "text": [
      "Epoch [50]: 100%|██████████| 391/391 [00:08<00:00, 47.00it/s, acc=91.7, loss=0.262]\n"
     ]
    },
    {
     "name": "stdout",
     "output_type": "stream",
     "text": [
      "Traditional Model - Epoch 50: Train Loss = 0.2373, Train Acc = 91.68%, Test Loss = 0.4217, Test Acc = 86.91%\n"
     ]
    },
    {
     "name": "stderr",
     "output_type": "stream",
     "text": [
      "Epoch [51]: 100%|██████████| 391/391 [00:08<00:00, 47.82it/s, acc=91.5, loss=0.267] \n"
     ]
    },
    {
     "name": "stdout",
     "output_type": "stream",
     "text": [
      "Traditional Model - Epoch 51: Train Loss = 0.2405, Train Acc = 91.53%, Test Loss = 0.4038, Test Acc = 87.71%\n"
     ]
    },
    {
     "name": "stderr",
     "output_type": "stream",
     "text": [
      "Epoch [52]: 100%|██████████| 391/391 [00:08<00:00, 46.60it/s, acc=91.6, loss=0.159]\n"
     ]
    },
    {
     "name": "stdout",
     "output_type": "stream",
     "text": [
      "Traditional Model - Epoch 52: Train Loss = 0.2353, Train Acc = 91.60%, Test Loss = 0.4135, Test Acc = 87.54%\n"
     ]
    },
    {
     "name": "stderr",
     "output_type": "stream",
     "text": [
      "Epoch [53]: 100%|██████████| 391/391 [00:08<00:00, 48.68it/s, acc=91.7, loss=0.206]\n"
     ]
    },
    {
     "name": "stdout",
     "output_type": "stream",
     "text": [
      "Traditional Model - Epoch 53: Train Loss = 0.2308, Train Acc = 91.73%, Test Loss = 0.4259, Test Acc = 87.71%\n"
     ]
    },
    {
     "name": "stderr",
     "output_type": "stream",
     "text": [
      "Epoch [54]: 100%|██████████| 391/391 [00:08<00:00, 44.84it/s, acc=91.7, loss=0.235] \n"
     ]
    },
    {
     "name": "stdout",
     "output_type": "stream",
     "text": [
      "Traditional Model - Epoch 54: Train Loss = 0.2316, Train Acc = 91.71%, Test Loss = 0.4116, Test Acc = 87.41%\n"
     ]
    },
    {
     "name": "stderr",
     "output_type": "stream",
     "text": [
      "Epoch [55]: 100%|██████████| 391/391 [00:08<00:00, 47.61it/s, acc=91.8, loss=0.213]\n"
     ]
    },
    {
     "name": "stdout",
     "output_type": "stream",
     "text": [
      "Traditional Model - Epoch 55: Train Loss = 0.2317, Train Acc = 91.77%, Test Loss = 0.4124, Test Acc = 87.58%\n"
     ]
    },
    {
     "name": "stderr",
     "output_type": "stream",
     "text": [
      "Epoch [56]: 100%|██████████| 391/391 [00:08<00:00, 46.28it/s, acc=92.1, loss=0.248]\n"
     ]
    },
    {
     "name": "stdout",
     "output_type": "stream",
     "text": [
      "Traditional Model - Epoch 56: Train Loss = 0.2270, Train Acc = 92.07%, Test Loss = 0.4456, Test Acc = 87.08%\n"
     ]
    },
    {
     "name": "stderr",
     "output_type": "stream",
     "text": [
      "Epoch [57]: 100%|██████████| 391/391 [00:08<00:00, 47.70it/s, acc=92.1, loss=0.145]\n"
     ]
    },
    {
     "name": "stdout",
     "output_type": "stream",
     "text": [
      "Traditional Model - Epoch 57: Train Loss = 0.2249, Train Acc = 92.11%, Test Loss = 0.4224, Test Acc = 87.36%\n"
     ]
    },
    {
     "name": "stderr",
     "output_type": "stream",
     "text": [
      "Epoch [58]: 100%|██████████| 391/391 [00:08<00:00, 48.64it/s, acc=92.2, loss=0.277] \n"
     ]
    },
    {
     "name": "stdout",
     "output_type": "stream",
     "text": [
      "Traditional Model - Epoch 58: Train Loss = 0.2200, Train Acc = 92.25%, Test Loss = 0.4526, Test Acc = 87.01%\n"
     ]
    },
    {
     "name": "stderr",
     "output_type": "stream",
     "text": [
      "Epoch [59]: 100%|██████████| 391/391 [00:08<00:00, 47.08it/s, acc=92.2, loss=0.169] \n"
     ]
    },
    {
     "name": "stdout",
     "output_type": "stream",
     "text": [
      "Traditional Model - Epoch 59: Train Loss = 0.2180, Train Acc = 92.23%, Test Loss = 0.4844, Test Acc = 86.14%\n"
     ]
    },
    {
     "name": "stderr",
     "output_type": "stream",
     "text": [
      "Epoch [60]: 100%|██████████| 391/391 [00:08<00:00, 46.33it/s, acc=92.2, loss=0.26]  \n"
     ]
    },
    {
     "name": "stdout",
     "output_type": "stream",
     "text": [
      "Traditional Model - Epoch 60: Train Loss = 0.2205, Train Acc = 92.18%, Test Loss = 0.4076, Test Acc = 87.86%\n"
     ]
    },
    {
     "name": "stderr",
     "output_type": "stream",
     "text": [
      "Epoch [61]: 100%|██████████| 391/391 [00:08<00:00, 43.80it/s, acc=92.5, loss=0.358] \n"
     ]
    },
    {
     "name": "stdout",
     "output_type": "stream",
     "text": [
      "Traditional Model - Epoch 61: Train Loss = 0.2095, Train Acc = 92.49%, Test Loss = 0.4180, Test Acc = 87.62%\n"
     ]
    },
    {
     "name": "stderr",
     "output_type": "stream",
     "text": [
      "Epoch [62]: 100%|██████████| 391/391 [00:08<00:00, 47.58it/s, acc=92.4, loss=0.134] \n"
     ]
    },
    {
     "name": "stdout",
     "output_type": "stream",
     "text": [
      "Traditional Model - Epoch 62: Train Loss = 0.2128, Train Acc = 92.42%, Test Loss = 0.3977, Test Acc = 88.00%\n"
     ]
    },
    {
     "name": "stderr",
     "output_type": "stream",
     "text": [
      "Epoch [63]: 100%|██████████| 391/391 [00:08<00:00, 45.02it/s, acc=92.6, loss=0.265] \n"
     ]
    },
    {
     "name": "stdout",
     "output_type": "stream",
     "text": [
      "Traditional Model - Epoch 63: Train Loss = 0.2109, Train Acc = 92.61%, Test Loss = 0.4164, Test Acc = 87.80%\n"
     ]
    },
    {
     "name": "stderr",
     "output_type": "stream",
     "text": [
      "Epoch [64]: 100%|██████████| 391/391 [00:08<00:00, 47.28it/s, acc=92.6, loss=0.203] \n"
     ]
    },
    {
     "name": "stdout",
     "output_type": "stream",
     "text": [
      "Traditional Model - Epoch 64: Train Loss = 0.2075, Train Acc = 92.55%, Test Loss = 0.4796, Test Acc = 86.19%\n"
     ]
    },
    {
     "name": "stderr",
     "output_type": "stream",
     "text": [
      "Epoch [65]: 100%|██████████| 391/391 [00:08<00:00, 45.63it/s, acc=92.6, loss=0.164] \n"
     ]
    },
    {
     "name": "stdout",
     "output_type": "stream",
     "text": [
      "Traditional Model - Epoch 65: Train Loss = 0.2080, Train Acc = 92.62%, Test Loss = 0.4292, Test Acc = 87.42%\n"
     ]
    },
    {
     "name": "stderr",
     "output_type": "stream",
     "text": [
      "Epoch [66]: 100%|██████████| 391/391 [00:08<00:00, 46.86it/s, acc=92.8, loss=0.213] \n"
     ]
    },
    {
     "name": "stdout",
     "output_type": "stream",
     "text": [
      "Traditional Model - Epoch 66: Train Loss = 0.2039, Train Acc = 92.81%, Test Loss = 0.4463, Test Acc = 87.36%\n"
     ]
    },
    {
     "name": "stderr",
     "output_type": "stream",
     "text": [
      "Epoch [67]: 100%|██████████| 391/391 [00:08<00:00, 46.21it/s, acc=92.7, loss=0.164] \n"
     ]
    },
    {
     "name": "stdout",
     "output_type": "stream",
     "text": [
      "Traditional Model - Epoch 67: Train Loss = 0.2046, Train Acc = 92.74%, Test Loss = 0.4476, Test Acc = 86.93%\n"
     ]
    },
    {
     "name": "stderr",
     "output_type": "stream",
     "text": [
      "Epoch [68]: 100%|██████████| 391/391 [00:08<00:00, 45.57it/s, acc=92.8, loss=0.253] \n"
     ]
    },
    {
     "name": "stdout",
     "output_type": "stream",
     "text": [
      "Traditional Model - Epoch 68: Train Loss = 0.2024, Train Acc = 92.83%, Test Loss = 0.4520, Test Acc = 86.68%\n"
     ]
    },
    {
     "name": "stderr",
     "output_type": "stream",
     "text": [
      "Epoch [69]: 100%|██████████| 391/391 [00:08<00:00, 45.98it/s, acc=92.9, loss=0.252] \n"
     ]
    },
    {
     "name": "stdout",
     "output_type": "stream",
     "text": [
      "Traditional Model - Epoch 69: Train Loss = 0.1998, Train Acc = 92.89%, Test Loss = 0.4203, Test Acc = 87.89%\n"
     ]
    },
    {
     "name": "stderr",
     "output_type": "stream",
     "text": [
      "Epoch [70]: 100%|██████████| 391/391 [00:08<00:00, 47.21it/s, acc=92.9, loss=0.168] \n"
     ]
    },
    {
     "name": "stdout",
     "output_type": "stream",
     "text": [
      "Traditional Model - Epoch 70: Train Loss = 0.2001, Train Acc = 92.93%, Test Loss = 0.4313, Test Acc = 87.64%\n"
     ]
    },
    {
     "name": "stderr",
     "output_type": "stream",
     "text": [
      "Epoch [71]: 100%|██████████| 391/391 [00:08<00:00, 47.75it/s, acc=93, loss=0.282]   \n"
     ]
    },
    {
     "name": "stdout",
     "output_type": "stream",
     "text": [
      "Traditional Model - Epoch 71: Train Loss = 0.1973, Train Acc = 92.96%, Test Loss = 0.4038, Test Acc = 88.33%\n"
     ]
    },
    {
     "name": "stderr",
     "output_type": "stream",
     "text": [
      "Epoch [72]: 100%|██████████| 391/391 [00:08<00:00, 47.63it/s, acc=93, loss=0.144]   \n"
     ]
    },
    {
     "name": "stdout",
     "output_type": "stream",
     "text": [
      "Traditional Model - Epoch 72: Train Loss = 0.1975, Train Acc = 93.04%, Test Loss = 0.4405, Test Acc = 87.41%\n"
     ]
    },
    {
     "name": "stderr",
     "output_type": "stream",
     "text": [
      "Epoch [73]: 100%|██████████| 391/391 [00:08<00:00, 46.88it/s, acc=93.1, loss=0.378] \n"
     ]
    },
    {
     "name": "stdout",
     "output_type": "stream",
     "text": [
      "Traditional Model - Epoch 73: Train Loss = 0.1943, Train Acc = 93.14%, Test Loss = 0.4793, Test Acc = 86.57%\n"
     ]
    },
    {
     "name": "stderr",
     "output_type": "stream",
     "text": [
      "Epoch [74]: 100%|██████████| 391/391 [00:08<00:00, 48.46it/s, acc=93.2, loss=0.11]  \n"
     ]
    },
    {
     "name": "stdout",
     "output_type": "stream",
     "text": [
      "Traditional Model - Epoch 74: Train Loss = 0.1914, Train Acc = 93.21%, Test Loss = 0.4416, Test Acc = 87.66%\n"
     ]
    },
    {
     "name": "stderr",
     "output_type": "stream",
     "text": [
      "Epoch [75]: 100%|██████████| 391/391 [00:08<00:00, 47.58it/s, acc=93.3, loss=0.113] \n"
     ]
    },
    {
     "name": "stdout",
     "output_type": "stream",
     "text": [
      "Traditional Model - Epoch 75: Train Loss = 0.1911, Train Acc = 93.31%, Test Loss = 0.4348, Test Acc = 87.79%\n"
     ]
    },
    {
     "name": "stderr",
     "output_type": "stream",
     "text": [
      "Epoch [76]: 100%|██████████| 391/391 [00:08<00:00, 47.07it/s, acc=93.2, loss=0.252] \n"
     ]
    },
    {
     "name": "stdout",
     "output_type": "stream",
     "text": [
      "Traditional Model - Epoch 76: Train Loss = 0.1912, Train Acc = 93.18%, Test Loss = 0.4568, Test Acc = 87.46%\n"
     ]
    },
    {
     "name": "stderr",
     "output_type": "stream",
     "text": [
      "Epoch [77]: 100%|██████████| 391/391 [00:08<00:00, 47.18it/s, acc=93.3, loss=0.231] \n"
     ]
    },
    {
     "name": "stdout",
     "output_type": "stream",
     "text": [
      "Traditional Model - Epoch 77: Train Loss = 0.1849, Train Acc = 93.34%, Test Loss = 0.4165, Test Acc = 87.73%\n"
     ]
    },
    {
     "name": "stderr",
     "output_type": "stream",
     "text": [
      "Epoch [78]: 100%|██████████| 391/391 [00:08<00:00, 47.60it/s, acc=93.3, loss=0.36]  \n"
     ]
    },
    {
     "name": "stdout",
     "output_type": "stream",
     "text": [
      "Traditional Model - Epoch 78: Train Loss = 0.1867, Train Acc = 93.29%, Test Loss = 0.4177, Test Acc = 87.85%\n"
     ]
    },
    {
     "name": "stderr",
     "output_type": "stream",
     "text": [
      "Epoch [79]: 100%|██████████| 391/391 [00:08<00:00, 46.69it/s, acc=93.2, loss=0.122] \n"
     ]
    },
    {
     "name": "stdout",
     "output_type": "stream",
     "text": [
      "Traditional Model - Epoch 79: Train Loss = 0.1900, Train Acc = 93.22%, Test Loss = 0.4226, Test Acc = 87.85%\n"
     ]
    },
    {
     "name": "stderr",
     "output_type": "stream",
     "text": [
      "Epoch [80]: 100%|██████████| 391/391 [00:08<00:00, 46.60it/s, acc=93.4, loss=0.0872]\n"
     ]
    },
    {
     "name": "stdout",
     "output_type": "stream",
     "text": [
      "Traditional Model - Epoch 80: Train Loss = 0.1859, Train Acc = 93.39%, Test Loss = 0.4439, Test Acc = 87.60%\n"
     ]
    },
    {
     "name": "stderr",
     "output_type": "stream",
     "text": [
      "Epoch [81]: 100%|██████████| 391/391 [00:08<00:00, 46.44it/s, acc=93.6, loss=0.188] \n"
     ]
    },
    {
     "name": "stdout",
     "output_type": "stream",
     "text": [
      "Traditional Model - Epoch 81: Train Loss = 0.1819, Train Acc = 93.56%, Test Loss = 0.4586, Test Acc = 87.00%\n"
     ]
    },
    {
     "name": "stderr",
     "output_type": "stream",
     "text": [
      "Epoch [82]: 100%|██████████| 391/391 [00:08<00:00, 45.35it/s, acc=93.5, loss=0.263] \n"
     ]
    },
    {
     "name": "stdout",
     "output_type": "stream",
     "text": [
      "Traditional Model - Epoch 82: Train Loss = 0.1817, Train Acc = 93.47%, Test Loss = 0.4477, Test Acc = 86.82%\n"
     ]
    },
    {
     "name": "stderr",
     "output_type": "stream",
     "text": [
      "Epoch [83]: 100%|██████████| 391/391 [00:08<00:00, 47.94it/s, acc=93.5, loss=0.125] \n"
     ]
    },
    {
     "name": "stdout",
     "output_type": "stream",
     "text": [
      "Traditional Model - Epoch 83: Train Loss = 0.1779, Train Acc = 93.52%, Test Loss = 0.4222, Test Acc = 87.70%\n"
     ]
    },
    {
     "name": "stderr",
     "output_type": "stream",
     "text": [
      "Epoch [84]: 100%|██████████| 391/391 [00:08<00:00, 48.33it/s, acc=93.7, loss=0.345] \n"
     ]
    },
    {
     "name": "stdout",
     "output_type": "stream",
     "text": [
      "Traditional Model - Epoch 84: Train Loss = 0.1775, Train Acc = 93.65%, Test Loss = 0.4286, Test Acc = 88.32%\n"
     ]
    },
    {
     "name": "stderr",
     "output_type": "stream",
     "text": [
      "Epoch [85]: 100%|██████████| 391/391 [00:08<00:00, 47.55it/s, acc=93.7, loss=0.133] \n"
     ]
    },
    {
     "name": "stdout",
     "output_type": "stream",
     "text": [
      "Traditional Model - Epoch 85: Train Loss = 0.1767, Train Acc = 93.74%, Test Loss = 0.4383, Test Acc = 87.74%\n"
     ]
    },
    {
     "name": "stderr",
     "output_type": "stream",
     "text": [
      "Epoch [86]: 100%|██████████| 391/391 [00:08<00:00, 47.44it/s, acc=93.8, loss=0.151] \n"
     ]
    },
    {
     "name": "stdout",
     "output_type": "stream",
     "text": [
      "Traditional Model - Epoch 86: Train Loss = 0.1744, Train Acc = 93.75%, Test Loss = 0.4253, Test Acc = 88.03%\n"
     ]
    },
    {
     "name": "stderr",
     "output_type": "stream",
     "text": [
      "Epoch [87]: 100%|██████████| 391/391 [00:08<00:00, 47.94it/s, acc=93.8, loss=0.138] \n"
     ]
    },
    {
     "name": "stdout",
     "output_type": "stream",
     "text": [
      "Traditional Model - Epoch 87: Train Loss = 0.1711, Train Acc = 93.83%, Test Loss = 0.4588, Test Acc = 87.42%\n"
     ]
    },
    {
     "name": "stderr",
     "output_type": "stream",
     "text": [
      "Epoch [88]: 100%|██████████| 391/391 [00:08<00:00, 47.86it/s, acc=93.7, loss=0.198] \n"
     ]
    },
    {
     "name": "stdout",
     "output_type": "stream",
     "text": [
      "Traditional Model - Epoch 88: Train Loss = 0.1752, Train Acc = 93.65%, Test Loss = 0.4408, Test Acc = 87.86%\n"
     ]
    },
    {
     "name": "stderr",
     "output_type": "stream",
     "text": [
      "Epoch [89]: 100%|██████████| 391/391 [00:08<00:00, 47.92it/s, acc=93.9, loss=0.232] \n"
     ]
    },
    {
     "name": "stdout",
     "output_type": "stream",
     "text": [
      "Traditional Model - Epoch 89: Train Loss = 0.1704, Train Acc = 93.86%, Test Loss = 0.4500, Test Acc = 87.95%\n"
     ]
    },
    {
     "name": "stderr",
     "output_type": "stream",
     "text": [
      "Epoch [90]: 100%|██████████| 391/391 [00:08<00:00, 47.99it/s, acc=94, loss=0.256]   \n"
     ]
    },
    {
     "name": "stdout",
     "output_type": "stream",
     "text": [
      "Traditional Model - Epoch 90: Train Loss = 0.1710, Train Acc = 94.00%, Test Loss = 0.4493, Test Acc = 88.04%\n"
     ]
    },
    {
     "name": "stderr",
     "output_type": "stream",
     "text": [
      "Epoch [91]: 100%|██████████| 391/391 [00:08<00:00, 47.96it/s, acc=93.9, loss=0.184] \n"
     ]
    },
    {
     "name": "stdout",
     "output_type": "stream",
     "text": [
      "Traditional Model - Epoch 91: Train Loss = 0.1695, Train Acc = 93.92%, Test Loss = 0.4416, Test Acc = 87.73%\n"
     ]
    },
    {
     "name": "stderr",
     "output_type": "stream",
     "text": [
      "Epoch [92]: 100%|██████████| 391/391 [00:08<00:00, 47.43it/s, acc=94, loss=0.176]   \n"
     ]
    },
    {
     "name": "stdout",
     "output_type": "stream",
     "text": [
      "Traditional Model - Epoch 92: Train Loss = 0.1680, Train Acc = 94.04%, Test Loss = 0.4414, Test Acc = 87.88%\n"
     ]
    },
    {
     "name": "stderr",
     "output_type": "stream",
     "text": [
      "Epoch [93]: 100%|██████████| 391/391 [00:08<00:00, 48.62it/s, acc=94, loss=0.269]   \n"
     ]
    },
    {
     "name": "stdout",
     "output_type": "stream",
     "text": [
      "Traditional Model - Epoch 93: Train Loss = 0.1650, Train Acc = 94.04%, Test Loss = 0.4863, Test Acc = 87.31%\n"
     ]
    },
    {
     "name": "stderr",
     "output_type": "stream",
     "text": [
      "Epoch [94]: 100%|██████████| 391/391 [00:08<00:00, 47.60it/s, acc=94.1, loss=0.0872]\n"
     ]
    },
    {
     "name": "stdout",
     "output_type": "stream",
     "text": [
      "Traditional Model - Epoch 94: Train Loss = 0.1631, Train Acc = 94.11%, Test Loss = 0.4235, Test Acc = 88.10%\n"
     ]
    },
    {
     "name": "stderr",
     "output_type": "stream",
     "text": [
      "Epoch [95]: 100%|██████████| 391/391 [00:08<00:00, 47.63it/s, acc=94.2, loss=0.11]  \n"
     ]
    },
    {
     "name": "stdout",
     "output_type": "stream",
     "text": [
      "Traditional Model - Epoch 95: Train Loss = 0.1622, Train Acc = 94.15%, Test Loss = 0.4308, Test Acc = 88.40%\n"
     ]
    },
    {
     "name": "stderr",
     "output_type": "stream",
     "text": [
      "Epoch [96]: 100%|██████████| 391/391 [00:08<00:00, 46.28it/s, acc=94.2, loss=0.203] \n"
     ]
    },
    {
     "name": "stdout",
     "output_type": "stream",
     "text": [
      "Traditional Model - Epoch 96: Train Loss = 0.1629, Train Acc = 94.16%, Test Loss = 0.4461, Test Acc = 87.75%\n"
     ]
    },
    {
     "name": "stderr",
     "output_type": "stream",
     "text": [
      "Epoch [97]: 100%|██████████| 391/391 [00:08<00:00, 47.75it/s, acc=94.2, loss=0.168] \n"
     ]
    },
    {
     "name": "stdout",
     "output_type": "stream",
     "text": [
      "Traditional Model - Epoch 97: Train Loss = 0.1602, Train Acc = 94.24%, Test Loss = 0.4413, Test Acc = 88.00%\n"
     ]
    },
    {
     "name": "stderr",
     "output_type": "stream",
     "text": [
      "Epoch [98]: 100%|██████████| 391/391 [00:08<00:00, 47.95it/s, acc=94.3, loss=0.272] \n"
     ]
    },
    {
     "name": "stdout",
     "output_type": "stream",
     "text": [
      "Traditional Model - Epoch 98: Train Loss = 0.1604, Train Acc = 94.25%, Test Loss = 0.4490, Test Acc = 88.02%\n"
     ]
    },
    {
     "name": "stderr",
     "output_type": "stream",
     "text": [
      "Epoch [99]: 100%|██████████| 391/391 [00:08<00:00, 47.73it/s, acc=94.2, loss=0.2]   \n"
     ]
    },
    {
     "name": "stdout",
     "output_type": "stream",
     "text": [
      "Traditional Model - Epoch 99: Train Loss = 0.1632, Train Acc = 94.21%, Test Loss = 0.4399, Test Acc = 88.09%\n"
     ]
    },
    {
     "name": "stderr",
     "output_type": "stream",
     "text": [
      "Epoch [100]: 100%|██████████| 391/391 [00:08<00:00, 48.21it/s, acc=94.2, loss=0.18]  \n"
     ]
    },
    {
     "name": "stdout",
     "output_type": "stream",
     "text": [
      "Traditional Model - Epoch 100: Train Loss = 0.1605, Train Acc = 94.23%, Test Loss = 0.4558, Test Acc = 87.57%\n"
     ]
    }
   ],
   "source": [
    "\n",
    "\n",
    "\n",
    "device = torch.device(\"cuda\" if torch.cuda.is_available() else \"cpu\")\n",
    "print(\"Using device:\", device)\n",
    "\n",
    "num_epochs = 100  \n",
    "\n",
    "\n",
    "criterion = nn.CrossEntropyLoss()\n",
    "\n",
    "# --- Train Depth-wise Separable Convolution Model ---\n",
    "use_depthwise = True\n",
    "model_depth = DenseNetDS(growth_rate=12, num_init_features=32, block_layers=[4, 4, 4, 4],\n",
    "                         num_classes=10, use_depthwise=use_depthwise, drop_rate=0.0)\n",
    "model_depth = model_depth.to(device)\n",
    "optimizer_depth = optim.Adam(model_depth.parameters(), lr=0.001)\n",
    "print(\"\\nDepth-wise Separable Convolution Model:\")\n",
    "print(\"Number of trainable parameters:\", count_parameters(model_depth))\n",
    "\n",
    "depth_train_losses, depth_train_accs, depth_test_losses, depth_test_accs, depth_best_metrics = \\\n",
    "    train_and_evaluate(model_depth, device, train_loader, test_loader, criterion, optimizer_depth, num_epochs,\n",
    "                       model_name=\"Depth-wise Model\")\n",
    "\n",
    "# --- Train Traditional Convolution Model ---\n",
    "use_depthwise = False\n",
    "model_trad = DenseNetDS(growth_rate=12, num_init_features=32, block_layers=[4, 4, 4, 4],\n",
    "                        num_classes=10, use_depthwise=use_depthwise, drop_rate=0.0)\n",
    "model_trad = model_trad.to(device)\n",
    "optimizer_trad = optim.Adam(model_trad.parameters(), lr=0.001)\n",
    "print(\"\\nTraditional Convolution Model:\")\n",
    "print(\"Number of trainable parameters:\", count_parameters(model_trad))\n",
    "\n",
    "trad_train_losses, trad_train_accs, trad_test_losses, trad_test_accs, trad_best_metrics = \\\n",
    "    train_and_evaluate(model_trad, device, train_loader, test_loader, criterion, optimizer_trad, num_epochs,\n",
    "                       model_name=\"Traditional Model\")\n"
   ]
  },
  {
   "cell_type": "code",
   "execution_count": 16,
   "metadata": {
    "id": "FJR0WMEuSNmx"
   },
   "outputs": [
    {
     "name": "stdout",
     "output_type": "stream",
     "text": [
      "\n",
      "=== Comparison of Final Models ===\n",
      "\n",
      "Depth-wise Separable Convolution Model:\n",
      " - Best Test Loss: 0.4405\n",
      " - Best Test Accuracy: 85.98%\n",
      " - Accuracy: 85.98%\n",
      " - Precision: 0.8618\n",
      " - Recall: 0.8598\n",
      " - F1 Score: 0.8602\n",
      " - Parameters: 34613\n",
      " - Inference time (single forward pass): 4.0364 ms\n",
      "\n",
      "Classification Report:\n",
      "               precision    recall  f1-score   support\n",
      "\n",
      "           0     0.8549    0.8780    0.8663      1000\n",
      "           1     0.9582    0.8950    0.9255      1000\n",
      "           2     0.8100    0.8230    0.8165      1000\n",
      "           3     0.7289    0.7500    0.7393      1000\n",
      "           4     0.8104    0.8850    0.8461      1000\n",
      "           5     0.8222    0.7860    0.8037      1000\n",
      "           6     0.9237    0.8590    0.8902      1000\n",
      "           7     0.9065    0.8630    0.8842      1000\n",
      "           8     0.9244    0.9170    0.9207      1000\n",
      "           9     0.8787    0.9420    0.9093      1000\n",
      "\n",
      "    accuracy                         0.8598     10000\n",
      "   macro avg     0.8618    0.8598    0.8602     10000\n",
      "weighted avg     0.8618    0.8598    0.8602     10000\n",
      "\n",
      "\n",
      "Traditional Convolution Model:\n",
      " - Best Test Loss: 0.4308\n",
      " - Best Test Accuracy: 88.40%\n",
      " - Accuracy: 88.40%\n",
      " - Precision: 0.8846\n",
      " - Recall: 0.8840\n",
      " - F1 Score: 0.8835\n",
      " - Parameters: 116786\n",
      " - Inference time (single forward pass): 3.2048 ms\n",
      "\n",
      "Classification Report:\n",
      "               precision    recall  f1-score   support\n",
      "\n",
      "           0     0.8476    0.9180    0.8814      1000\n",
      "           1     0.9697    0.9280    0.9484      1000\n",
      "           2     0.8684    0.8450    0.8566      1000\n",
      "           3     0.8252    0.7270    0.7730      1000\n",
      "           4     0.8921    0.8760    0.8840      1000\n",
      "           5     0.8200    0.8430    0.8314      1000\n",
      "           6     0.8996    0.9230    0.9112      1000\n",
      "           7     0.8510    0.9370    0.8920      1000\n",
      "           8     0.9417    0.9210    0.9312      1000\n",
      "           9     0.9304    0.9220    0.9262      1000\n",
      "\n",
      "    accuracy                         0.8840     10000\n",
      "   macro avg     0.8846    0.8840    0.8835     10000\n",
      "weighted avg     0.8846    0.8840    0.8835     10000\n",
      "\n"
     ]
    }
   ],
   "source": [
    "\n",
    "\n",
    "def get_model_stats(model, device):\n",
    "    num_params = count_parameters(model)\n",
    "    dummy_input = torch.randn(1, 3, 32, 32).to(device)\n",
    "    model.eval()\n",
    "    with torch.no_grad():\n",
    "        start = time.time()\n",
    "        _ = model(dummy_input)\n",
    "        end = time.time()\n",
    "    inference_time = end - start\n",
    "    return num_params, inference_time\n",
    "\n",
    "# Retrieve best metrics from training (from the epoch with highest test accuracy)\n",
    "depth_test_loss, depth_test_acc, depth_targets, depth_preds = depth_best_metrics\n",
    "trad_test_loss, trad_test_acc, trad_targets, trad_preds = trad_best_metrics\n",
    "\n",
    "# Compute detailed metrics\n",
    "depth_accuracy, depth_precision, depth_recall, depth_f1, depth_report = compute_metrics(depth_targets, depth_preds)\n",
    "trad_accuracy, trad_precision, trad_recall, trad_f1, trad_report = compute_metrics(trad_targets, trad_preds)\n",
    "\n",
    "# Get parameter counts and inference times\n",
    "num_params_depth, time_depth = get_model_stats(model_depth, device)\n",
    "num_params_trad, time_trad = get_model_stats(model_trad, device)\n",
    "\n",
    "print(\"\\n=== Comparison of Final Models ===\\n\")\n",
    "print(\"Depth-wise Separable Convolution Model:\")\n",
    "print(f\" - Best Test Loss: {depth_test_loss:.4f}\")\n",
    "print(f\" - Best Test Accuracy: {depth_test_acc:.2f}%\")\n",
    "print(f\" - Accuracy: {depth_accuracy * 100:.2f}%\")\n",
    "print(f\" - Precision: {depth_precision:.4f}\")\n",
    "print(f\" - Recall: {depth_recall:.4f}\")\n",
    "print(f\" - F1 Score: {depth_f1:.4f}\")\n",
    "print(f\" - Parameters: {num_params_depth}\")\n",
    "print(f\" - Inference time (single forward pass): {time_depth * 1000:.4f} ms\")\n",
    "print(\"\\nClassification Report:\\n\", depth_report)\n",
    "\n",
    "print(\"\\nTraditional Convolution Model:\")\n",
    "print(f\" - Best Test Loss: {trad_test_loss:.4f}\")\n",
    "print(f\" - Best Test Accuracy: {trad_test_acc:.2f}%\")\n",
    "print(f\" - Accuracy: {trad_accuracy * 100:.2f}%\")\n",
    "print(f\" - Precision: {trad_precision:.4f}\")\n",
    "print(f\" - Recall: {trad_recall:.4f}\")\n",
    "print(f\" - F1 Score: {trad_f1:.4f}\")\n",
    "print(f\" - Parameters: {num_params_trad}\")\n",
    "print(f\" - Inference time (single forward pass): {time_trad * 1000:.4f} ms\")\n",
    "print(\"\\nClassification Report:\\n\", trad_report)\n"
   ]
  },
  {
   "cell_type": "code",
   "execution_count": 23,
   "metadata": {},
   "outputs": [
    {
     "data": {
      "image/png": "[encoded data removed]",
      "text/plain": [
       "<Figure size 1500x400 with 5 Axes>"
      ]
     },
     "metadata": {},
     "output_type": "display_data"
    }
   ],
   "source": [
    "\n",
    "\n",
    "import matplotlib.pyplot as plt\n",
    "import numpy as np\n",
    "\n",
    "\n",
    "model = model_depth  \n",
    "model.eval()  \n",
    "\n",
    "# Get a batch of test images\n",
    "dataiter = iter(test_loader)\n",
    "images, labels = next(dataiter)\n",
    "\n",
    "# Move images to the device\n",
    "images = images.to(device)\n",
    "\n",
    "# Get predictions from the model\n",
    "with torch.no_grad():\n",
    "    outputs = model(images)\n",
    "    _, predicted = outputs.max(1)\n",
    "\n",
    "# Move predicted labels and true labels to CPU and convert to numpy arrays\n",
    "predicted = predicted.cpu().numpy()\n",
    "labels = labels.cpu().numpy()\n",
    "\n",
    "# Get the class names from the dataset\n",
    "classes = train_dataset.classes\n",
    "\n",
    "# Define how many images you want to display\n",
    "num_images = 5  \n",
    "\n",
    "# Create a figure with subplots for each image\n",
    "fig, axes = plt.subplots(1, num_images, figsize=(15, 4))\n",
    "for i in range(num_images):\n",
    "    # Unnormalize the image to display in its natural colors\n",
    "    img = images[i].cpu()  # Get image from GPU and move to CPU\n",
    "    npimg = img.numpy().transpose((1, 2, 0))\n",
    "    mean = np.array([0.4914, 0.4822, 0.4465])\n",
    "    std = np.array([0.247, 0.243, 0.261])\n",
    "    npimg = std * npimg + mean\n",
    "    npimg = np.clip(npimg, 0, 1)\n",
    "    \n",
    "    # Display the image\n",
    "    axes[i].imshow(npimg)\n",
    "    axes[i].axis('off')\n",
    "    \n",
    "    # Set the title with predicted and actual label\n",
    "    axes[i].set_title(f\"Pred: {classes[predicted[i]]}\\nActual: {classes[labels[i]]}\", fontsize=10)\n",
    "\n",
    "plt.tight_layout()\n",
    "plt.show()\n"
   ]
  }
 ],
 "metadata": {
  "accelerator": "GPU",
  "colab": {
   "gpuType": "T4",
   "provenance": []
  },
  "kernelspec": {
   "display_name": "Python3 (ipykernel)",
   "language": "python",
   "name": "python3"
  },
  "language_info": {
   "codemirror_mode": {
    "name": "ipython",
    "version": 3
   },
   "file_extension": ".py",
   "mimetype": "text/x-python",
   "name": "python",
   "nbconvert_exporter": "python",
   "pygments_lexer": "ipython3",
   "version": "3.10.12"
  }
 },
 "nbformat": 4,
 "nbformat_minor": 4
}
